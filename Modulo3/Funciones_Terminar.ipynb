{
  "nbformat": 4,
  "nbformat_minor": 0,
  "metadata": {
    "colab": {
      "name": "modulo 3.ipynb",
      "provenance": [],
      "include_colab_link": true
    },
    "kernelspec": {
      "name": "python3",
      "display_name": "Python 3"
    },
    "language_info": {
      "name": "python"
    }
  },
  "cells": [
    {
      "cell_type": "markdown",
      "metadata": {
        "id": "view-in-github",
        "colab_type": "text"
      },
      "source": [
        "<a href=\"https://colab.research.google.com/github/270100JL/PB_Prueba_2/blob/main/Modulo3/Funciones_Terminar.ipynb\" target=\"_parent\"><img src=\"https://colab.research.google.com/assets/colab-badge.svg\" alt=\"Open In Colab\"/></a>"
      ]
    },
    {
      "cell_type": "markdown",
      "source": [
        "<img src=\"https://www.ctic.uni.edu.pe/wp-content/uploads/2022/04/588px-x-348px-web-1.png\" alt=\"HTML5 Icon\" width=\"900\" height=\"350\" >"
      ],
      "metadata": {
        "id": "kt2I6UBTXfTx"
      }
    },
    {
      "cell_type": "markdown",
      "source": [
        "<h1 align=center><font size = 5>UNIDAD III - FUNCIONES\n",
        "</font></h1>\n",
        "\n",
        "---"
      ],
      "metadata": {
        "id": "OVQ2JpIkXhGH"
      }
    },
    {
      "cell_type": "markdown",
      "source": [
        "## Tabla de Contenidos\n",
        "\n",
        "<div class=\"alert alert-block alert-info\" style=\"margin-top: 20px\">\n",
        "\n",
        "<font size = 3>\n",
        "    \n",
        "1. <a href=\"#item31\">Definiendo funciones</a>\n",
        "2. <a href=\"#item31\">Usando información dentro de funciones</a>  \n",
        "3. <a href=\"#item31\">Valores de retorno</a>  \n",
        "4. <a href=\"#item31\">Usando funciones con loops while</a>  \n",
        "5. <a href=\"#item31\">Usando listas</a>  \n",
        "6. <a href=\"#item31\">Pasar un número arbitrario de argumentos</a>  \n",
        "7. <a href=\"#item31\">Almacenamiento de funciones con módulos</a>  \n",
        "8. <a href=\"#item31\">Clases</a>  \n",
        "\n",
        "</font>\n",
        "</div>\n",
        "\n",
        "---"
      ],
      "metadata": {
        "id": "dR78NGA6Xv_r"
      }
    },
    {
      "cell_type": "markdown",
      "source": [
        "#1. Definiendo funciones"
      ],
      "metadata": {
        "id": "WgFT9B7xYLXC"
      }
    },
    {
      "cell_type": "code",
      "source": [
        "def funcion():\n",
        "  \"\"\"Esta es la documentación de mi función\n",
        "     Esta funcion printea un mensaje de prueba\n",
        "     - Esta función no tiene parámetros\"\"\"\n",
        "  print(\"esta es una prueba\")\n"
      ],
      "metadata": {
        "id": "B_SRqc6sSuwd"
      },
      "execution_count": null,
      "outputs": []
    },
    {
      "cell_type": "code",
      "source": [
        "funcion()"
      ],
      "metadata": {
        "id": "4qMdJxlFTqId",
        "outputId": "21d22798-ea13-4c72-b6dc-480615f30ac4",
        "colab": {
          "base_uri": "https://localhost:8080/"
        }
      },
      "execution_count": null,
      "outputs": [
        {
          "output_type": "stream",
          "name": "stdout",
          "text": [
            "esta es una prueba\n"
          ]
        }
      ]
    },
    {
      "cell_type": "code",
      "source": [
        "range?"
      ],
      "metadata": {
        "id": "Zc_O0Hom_Gj5"
      },
      "execution_count": null,
      "outputs": []
    },
    {
      "cell_type": "code",
      "source": [
        "funcion?"
      ],
      "metadata": {
        "id": "z_3BmhDwT3sB"
      },
      "execution_count": null,
      "outputs": []
    },
    {
      "cell_type": "code",
      "execution_count": null,
      "metadata": {
        "id": "aegdMKDxXefq"
      },
      "outputs": [],
      "source": [
        "def greet_user():\n",
        "    \"\"\"Escribir un saludo simple.\"\"\"\n",
        "    print(\"Hola!!\")\n"
      ]
    },
    {
      "cell_type": "code",
      "source": [
        "greet_user()"
      ],
      "metadata": {
        "id": "TOZdVi5OZTRZ",
        "outputId": "f11fabab-bb56-40d5-f29b-ef68c6e15a81",
        "colab": {
          "base_uri": "https://localhost:8080/"
        }
      },
      "execution_count": null,
      "outputs": [
        {
          "output_type": "stream",
          "name": "stdout",
          "text": [
            "Hola!!\n"
          ]
        }
      ]
    },
    {
      "cell_type": "code",
      "source": [
        "greet_user?"
      ],
      "metadata": {
        "id": "Kj7qdHDUUceC"
      },
      "execution_count": null,
      "outputs": []
    },
    {
      "cell_type": "markdown",
      "source": [
        "#2. Usando información dentro de funciones"
      ],
      "metadata": {
        "id": "p7e7CUC_YjWU"
      }
    },
    {
      "cell_type": "code",
      "source": [
        "def greet_user(username):\n",
        "  print(f'Hola, {username}!!!')"
      ],
      "metadata": {
        "id": "nTk9bm2BAZNq"
      },
      "execution_count": null,
      "outputs": []
    },
    {
      "cell_type": "code",
      "source": [
        "greet_user('Jean')"
      ],
      "metadata": {
        "id": "GqLpd_-UAkT5",
        "outputId": "bbbf69d4-b633-46ff-da05-d6e2e456a893",
        "colab": {
          "base_uri": "https://localhost:8080/"
        }
      },
      "execution_count": null,
      "outputs": [
        {
          "output_type": "stream",
          "name": "stdout",
          "text": [
            "Hola, Jean!!!\n"
          ]
        }
      ]
    },
    {
      "cell_type": "code",
      "source": [
        "def greet_user(username):\n",
        "  \"\"\"vamos a generar un saludo al nombre definido\"\"\"\n",
        "  print(f\"Hola, {username}!\")"
      ],
      "metadata": {
        "id": "JQ_Os2hpU4hW"
      },
      "execution_count": null,
      "outputs": []
    },
    {
      "cell_type": "code",
      "source": [
        "def greet_user(username):\n",
        "    \"\"\"Escribir un saludo simple.\"\"\"\n",
        "    print(f\"Hola, {username}!\")\n"
      ],
      "metadata": {
        "id": "7_LUnJKwY7Jm"
      },
      "execution_count": null,
      "outputs": []
    },
    {
      "cell_type": "code",
      "source": [
        "greet_user('John')"
      ],
      "metadata": {
        "id": "jVoZm31qZV9O",
        "outputId": "b1d847c1-f328-4f46-c508-5f137fd2ee42",
        "colab": {
          "base_uri": "https://localhost:8080/"
        }
      },
      "execution_count": null,
      "outputs": [
        {
          "output_type": "stream",
          "name": "stdout",
          "text": [
            "Hola, John!\n"
          ]
        }
      ]
    },
    {
      "cell_type": "code",
      "source": [
        "greet_user('Victor')"
      ],
      "metadata": {
        "id": "NzTUG3LpVZ0W",
        "outputId": "c22636d5-c8cb-4fc0-8f7a-2d75c0acf23c",
        "colab": {
          "base_uri": "https://localhost:8080/"
        }
      },
      "execution_count": null,
      "outputs": [
        {
          "output_type": "stream",
          "name": "stdout",
          "text": [
            "Hola, Victor!\n"
          ]
        }
      ]
    },
    {
      "cell_type": "code",
      "source": [
        "greet_user('Margarita')"
      ],
      "metadata": {
        "id": "Db7gK5PoVcsE",
        "outputId": "8c86637a-f437-4539-9c1f-ebd9cb10b5b2",
        "colab": {
          "base_uri": "https://localhost:8080/"
        }
      },
      "execution_count": null,
      "outputs": [
        {
          "output_type": "stream",
          "name": "stdout",
          "text": [
            "Hola, Margarita!\n"
          ]
        }
      ]
    },
    {
      "cell_type": "markdown",
      "source": [
        "---\n",
        "\n",
        "<b> Ejercicio 1</b>\n",
        "\n",
        "Escriba una función llamada **display_message()** que imprima una oración que diga a todos lo que está aprendiendo en este capítulo. Llame a la función y asegúrese de que el mensaje se muestre correctamente.\n"
      ],
      "metadata": {
        "id": "D8I5O9AjZgLY"
      }
    },
    {
      "cell_type": "code",
      "source": [
        "def display_message():\n",
        "  \"\"\"imprimir una oración que diga lo que está aprendiendo en este capítulo\"\"\"\n",
        "  print(\"Estamos aprendiendo sobre funciones en Python!!!\")\n",
        "  "
      ],
      "metadata": {
        "id": "R0aZ-TvoVoPW"
      },
      "execution_count": null,
      "outputs": []
    },
    {
      "cell_type": "code",
      "source": [
        "display_message()"
      ],
      "metadata": {
        "id": "OFcSWrPsWxBS",
        "outputId": "f2b16cb4-ec35-4315-dca4-8899338d91e0",
        "colab": {
          "base_uri": "https://localhost:8080/"
        }
      },
      "execution_count": null,
      "outputs": [
        {
          "output_type": "stream",
          "name": "stdout",
          "text": [
            "Estamos aprendiendo sobre funciones en Python!!!\n"
          ]
        }
      ]
    },
    {
      "cell_type": "markdown",
      "source": [
        "\n",
        "---\n",
        "\n",
        "<b> Ejercicio 2</b>\n",
        "\n",
        "Escriba una función llamada **favorite_book()** que acepte un parámetro, título. La función debe imprimir un mensaje, como Uno de mis libros favoritos es Alicia en el país de las maravillas. Llame a la función, asegurándose de incluir el título de un libro como argumento en la llamada a la función.\n",
        "\n",
        "---"
      ],
      "metadata": {
        "id": "hk_i1gS_bvyv"
      }
    },
    {
      "cell_type": "code",
      "source": [
        "def favorite_book(titulo):\n",
        "  \"\"\"Esta función imprime mi libro favorito\"\"\"\n",
        "  print(f'Uno de mis libros favoritos es {titulo}.')\n"
      ],
      "metadata": {
        "id": "BRy_yROXVpdr"
      },
      "execution_count": null,
      "outputs": []
    },
    {
      "cell_type": "code",
      "source": [
        "favorite_book('Harry Poter y el prisionero de Azkaban')"
      ],
      "metadata": {
        "id": "RNnx_YErXVj3",
        "outputId": "d1d19706-6578-4a71-918f-bd47a3cd7a32",
        "colab": {
          "base_uri": "https://localhost:8080/"
        }
      },
      "execution_count": null,
      "outputs": [
        {
          "output_type": "stream",
          "name": "stdout",
          "text": [
            "Uno de mis libros favoritos es Harry Poter y el prisionero de Azkaban.\n"
          ]
        }
      ]
    },
    {
      "cell_type": "code",
      "source": [
        "favorite_book('El libro negro de la nueva izquierda')"
      ],
      "metadata": {
        "id": "6MXSiW5XBhBJ",
        "outputId": "8d3f59b8-74fc-48f7-d7ab-96606eed858e",
        "colab": {
          "base_uri": "https://localhost:8080/"
        }
      },
      "execution_count": null,
      "outputs": [
        {
          "output_type": "stream",
          "name": "stdout",
          "text": [
            "Uno de mis libros favoritos es El libro negro de la nueva izquierda.\n"
          ]
        }
      ]
    },
    {
      "cell_type": "markdown",
      "source": [
        "### Posición de argumentos"
      ],
      "metadata": {
        "id": "xpi4CpaLewj-"
      }
    },
    {
      "cell_type": "code",
      "source": [
        "def resta(a, b):\n",
        "  return a - b"
      ],
      "metadata": {
        "id": "21WnX_nfJLtC"
      },
      "execution_count": null,
      "outputs": []
    },
    {
      "cell_type": "code",
      "source": [
        "resta(10, 5)"
      ],
      "metadata": {
        "id": "0fLZAKrGJRbJ",
        "outputId": "23187499-08fe-436f-b910-3b458ae63028",
        "colab": {
          "base_uri": "https://localhost:8080/"
        }
      },
      "execution_count": null,
      "outputs": [
        {
          "output_type": "execute_result",
          "data": {
            "text/plain": [
              "5"
            ]
          },
          "metadata": {},
          "execution_count": 26
        }
      ]
    },
    {
      "cell_type": "code",
      "source": [
        "resta(5, 10)"
      ],
      "metadata": {
        "id": "hSb9iTbUJVcH",
        "outputId": "bcd3f20e-5369-4882-817c-70bafe7b390d",
        "colab": {
          "base_uri": "https://localhost:8080/"
        }
      },
      "execution_count": null,
      "outputs": [
        {
          "output_type": "execute_result",
          "data": {
            "text/plain": [
              "-5"
            ]
          },
          "metadata": {},
          "execution_count": 27
        }
      ]
    },
    {
      "cell_type": "code",
      "source": [
        "resta(b = 5, a = 10)"
      ],
      "metadata": {
        "id": "mIDCkI1_Jc3u",
        "outputId": "33ca937d-290e-4078-c59a-475d9e7abb3e",
        "colab": {
          "base_uri": "https://localhost:8080/"
        }
      },
      "execution_count": null,
      "outputs": [
        {
          "output_type": "execute_result",
          "data": {
            "text/plain": [
              "5"
            ]
          },
          "metadata": {},
          "execution_count": 28
        }
      ]
    },
    {
      "cell_type": "code",
      "source": [
        "def describe_pet(animal_type, pet_name):\n",
        "  \"\"\"This function displays information about a pet.\"\"\"\n",
        "  print(f'\\nYo tengo un/una {animal_type}.')\n",
        "  print(f\"El nombre de mi {animal_type} es {pet_name}.\")\n",
        "  "
      ],
      "metadata": {
        "id": "CAB8xh1jYnIx"
      },
      "execution_count": null,
      "outputs": []
    },
    {
      "cell_type": "code",
      "source": [
        "describe_pet('tortuga', 'Simona')"
      ],
      "metadata": {
        "id": "ZZyizIlXZloM",
        "outputId": "b52d0454-e819-44c1-d9b3-fe36757ef781",
        "colab": {
          "base_uri": "https://localhost:8080/"
        }
      },
      "execution_count": null,
      "outputs": [
        {
          "output_type": "stream",
          "name": "stdout",
          "text": [
            "\n",
            "Yo tengo un/una tortuga.\n",
            "El nombre de mi tortuga es Simona.\n"
          ]
        }
      ]
    },
    {
      "cell_type": "code",
      "source": [
        "def describe_pet(animal_type, pet_name):\n",
        "  \"\"\"Display information about a pet.\"\"\"\n",
        "  print(f\"\\nI have a {animal_type}.\")\n",
        "  print(f\"My {animal_type}'s name is {pet_name.title()}.\")\n",
        "\n"
      ],
      "metadata": {
        "id": "7H5m3SONe45x"
      },
      "execution_count": null,
      "outputs": []
    },
    {
      "cell_type": "code",
      "source": [
        "describe_pet('hamster', 'harry')"
      ],
      "metadata": {
        "id": "5I_pcnwJe5aT",
        "outputId": "2ca3eaed-b2d0-4909-f588-935ccb44f68f",
        "colab": {
          "base_uri": "https://localhost:8080/"
        }
      },
      "execution_count": null,
      "outputs": [
        {
          "output_type": "stream",
          "name": "stdout",
          "text": [
            "\n",
            "I have a hamster.\n",
            "My hamster's name is Harry.\n"
          ]
        }
      ]
    },
    {
      "cell_type": "code",
      "source": [
        "describe_pet('hamster', 'harry')\n",
        "describe_pet('dog', 'willie')"
      ],
      "metadata": {
        "id": "NA36VGAMgJ5-",
        "outputId": "a8d8b5ec-0262-416b-8a85-11139edbd4ce",
        "colab": {
          "base_uri": "https://localhost:8080/"
        }
      },
      "execution_count": null,
      "outputs": [
        {
          "output_type": "stream",
          "name": "stdout",
          "text": [
            "\n",
            "I have a hamster.\n",
            "My hamster's name is Harry.\n",
            "\n",
            "I have a dog.\n",
            "My dog's name is Willie.\n"
          ]
        }
      ]
    },
    {
      "cell_type": "markdown",
      "source": [
        "### Importancia de la posición de los argumentos"
      ],
      "metadata": {
        "id": "-uxdnnHkhf-F"
      }
    },
    {
      "cell_type": "code",
      "source": [
        "def describe_pet(animal_type, pet_name):\n",
        "    \"\"\"Display information about a pet.\"\"\"\n",
        "    print(f\"\\nI have a {animal_type}.\")\n",
        "    print(f\"My {animal_type}'s name is {pet_name.title()}.\")\n"
      ],
      "metadata": {
        "id": "o7HR4g4ThqU_"
      },
      "execution_count": null,
      "outputs": []
    },
    {
      "cell_type": "code",
      "source": [
        "describe_pet('harry', 'hamster')"
      ],
      "metadata": {
        "id": "3BhoaFayhre-",
        "outputId": "dda8e437-c2b0-43e0-ec19-8b97be1be300",
        "colab": {
          "base_uri": "https://localhost:8080/"
        }
      },
      "execution_count": null,
      "outputs": [
        {
          "output_type": "stream",
          "name": "stdout",
          "text": [
            "\n",
            "I have a harry.\n",
            "My harry's name is Hamster.\n"
          ]
        }
      ]
    },
    {
      "cell_type": "markdown",
      "source": [
        "### Argumentos clave"
      ],
      "metadata": {
        "id": "dIj2FL74jEmQ"
      }
    },
    {
      "cell_type": "code",
      "source": [
        "def describe_pet(animal_type, pet_name):\n",
        "    \"\"\"Display information about a pet.\"\"\"\n",
        "    print(f\"\\nI have a {animal_type}.\")\n",
        "    print(f\"My {animal_type}'s name is {pet_name}.\")\n"
      ],
      "metadata": {
        "id": "CVrsI1ozjELB"
      },
      "execution_count": null,
      "outputs": []
    },
    {
      "cell_type": "code",
      "source": [
        "describe_pet(pet_name = 'Harry', animal_type = 'hamster')\n"
      ],
      "metadata": {
        "id": "Xls6fpdYauO8",
        "outputId": "e668353a-2da4-4e87-c2ad-ba24403a855a",
        "colab": {
          "base_uri": "https://localhost:8080/"
        }
      },
      "execution_count": null,
      "outputs": [
        {
          "output_type": "stream",
          "name": "stdout",
          "text": [
            "\n",
            "I have a hamster.\n",
            "My hamster's name is Harry.\n"
          ]
        }
      ]
    },
    {
      "cell_type": "code",
      "source": [
        "describe_pet(animal_type = 'hamster', pet_name = 'Harry')"
      ],
      "metadata": {
        "id": "J2C9Ba48bGOH",
        "outputId": "8f9e7945-759f-41b9-a9a4-703919c93a2d",
        "colab": {
          "base_uri": "https://localhost:8080/"
        }
      },
      "execution_count": null,
      "outputs": [
        {
          "output_type": "stream",
          "name": "stdout",
          "text": [
            "\n",
            "I have a hamster.\n",
            "My hamster's name is Harry.\n"
          ]
        }
      ]
    },
    {
      "cell_type": "code",
      "source": [
        "describe_pet(animal_type='hamster', pet_name='harry')\n",
        "describe_pet(pet_name='harry', animal_type='hamster')"
      ],
      "metadata": {
        "id": "gnHxotr3qZ9f",
        "outputId": "ecca436e-d881-4b4d-ca79-7f5128b62500",
        "colab": {
          "base_uri": "https://localhost:8080/"
        }
      },
      "execution_count": null,
      "outputs": [
        {
          "output_type": "stream",
          "name": "stdout",
          "text": [
            "\n",
            "I have a hamster.\n",
            "My hamster's name is harry.\n",
            "\n",
            "I have a hamster.\n",
            "My hamster's name is harry.\n"
          ]
        }
      ]
    },
    {
      "cell_type": "markdown",
      "source": [
        "### Valores por default"
      ],
      "metadata": {
        "id": "b4OI6nMUqdw5"
      }
    },
    {
      "cell_type": "code",
      "source": [
        "def describe_pet(pet_name, animal_type = 'dog'):\n",
        "    \"\"\"Display information about a pet.\"\"\"\n",
        "    print(f\"\\nI have a {animal_type}.\")\n",
        "    print(f\"My {animal_type}'s name is {pet_name.title()}.\")\n",
        "                 "
      ],
      "metadata": {
        "id": "JZKYMn3Tbk-2"
      },
      "execution_count": null,
      "outputs": []
    },
    {
      "cell_type": "code",
      "source": [
        "describe_pet(pet_name = 'Milo')"
      ],
      "metadata": {
        "id": "UWfazKVvOAcZ",
        "outputId": "f9b39045-3e84-4b60-8660-eef965e98450",
        "colab": {
          "base_uri": "https://localhost:8080/"
        }
      },
      "execution_count": null,
      "outputs": [
        {
          "output_type": "stream",
          "name": "stdout",
          "text": [
            "\n",
            "I have a dog.\n",
            "My dog's name is Milo.\n"
          ]
        }
      ]
    },
    {
      "cell_type": "code",
      "source": [
        "describe_pet(pet_name='willie')"
      ],
      "metadata": {
        "id": "fTkw_ZRbqmCn",
        "outputId": "5fbb297f-3f55-43cd-b04c-6389273ea71f",
        "colab": {
          "base_uri": "https://localhost:8080/"
        }
      },
      "execution_count": null,
      "outputs": [
        {
          "output_type": "stream",
          "name": "stdout",
          "text": [
            "\n",
            "I have a dog.\n",
            "My dog's name is Willie.\n"
          ]
        }
      ]
    },
    {
      "cell_type": "code",
      "source": [
        "describe_pet('willie')"
      ],
      "metadata": {
        "id": "53Px7ITvqyBg",
        "outputId": "f621b12a-4631-4704-b2be-177021b9612c",
        "colab": {
          "base_uri": "https://localhost:8080/"
        }
      },
      "execution_count": null,
      "outputs": [
        {
          "output_type": "stream",
          "name": "stdout",
          "text": [
            "\n",
            "I have a dog.\n",
            "My dog's name is Willie.\n"
          ]
        }
      ]
    },
    {
      "cell_type": "code",
      "source": [
        "describe_pet(pet_name='harry', animal_type='hamster')"
      ],
      "metadata": {
        "id": "Wsvo5SVorE6-",
        "outputId": "27779fe0-09aa-4446-d3ac-cebf37204ca6",
        "colab": {
          "base_uri": "https://localhost:8080/"
        }
      },
      "execution_count": null,
      "outputs": [
        {
          "output_type": "stream",
          "name": "stdout",
          "text": [
            "\n",
            "I have a hamster.\n",
            "My hamster's name is Harry.\n"
          ]
        }
      ]
    },
    {
      "cell_type": "markdown",
      "source": [
        "### Llamadas a funciones equivalentes"
      ],
      "metadata": {
        "id": "Qli40ml8rNEu"
      }
    },
    {
      "cell_type": "code",
      "source": [
        "# Un perro llamado Willie.\n",
        "describe_pet('willie')\n",
        "describe_pet(pet_name='willie')"
      ],
      "metadata": {
        "id": "gRzBSP1JrrIp",
        "outputId": "78661c87-ff32-4315-f500-f783943e8a39",
        "colab": {
          "base_uri": "https://localhost:8080/"
        }
      },
      "execution_count": null,
      "outputs": [
        {
          "output_type": "stream",
          "name": "stdout",
          "text": [
            "\n",
            "I have a dog.\n",
            "My dog's name is Willie.\n",
            "\n",
            "I have a dog.\n",
            "My dog's name is Willie.\n"
          ]
        }
      ]
    },
    {
      "cell_type": "code",
      "source": [
        "# un hamster llamado Harry.\n",
        "describe_pet('harry', 'hamster')\n",
        "describe_pet(pet_name='harry', animal_type='hamster')\n",
        "describe_pet(animal_type='hamster', pet_name='harry')\n"
      ],
      "metadata": {
        "id": "sUY0rHqYrQ8n",
        "outputId": "ee5470ec-bf7d-4f03-a37d-6c3f00a00786",
        "colab": {
          "base_uri": "https://localhost:8080/"
        }
      },
      "execution_count": null,
      "outputs": [
        {
          "output_type": "stream",
          "name": "stdout",
          "text": [
            "\n",
            "I have a hamster.\n",
            "My hamster's name is Harry.\n",
            "\n",
            "I have a hamster.\n",
            "My hamster's name is Harry.\n",
            "\n",
            "I have a hamster.\n",
            "My hamster's name is Harry.\n"
          ]
        }
      ]
    },
    {
      "cell_type": "markdown",
      "source": [
        "### Evitar errores de argumento"
      ],
      "metadata": {
        "id": "21XnPX-tssX5"
      }
    },
    {
      "cell_type": "code",
      "source": [
        "describe_pet()"
      ],
      "metadata": {
        "id": "-IP0e-bDrkhC",
        "outputId": "4c413d01-c538-41d8-f7e3-b40101648a3e",
        "colab": {
          "base_uri": "https://localhost:8080/",
          "height": 165
        }
      },
      "execution_count": 1,
      "outputs": [
        {
          "output_type": "error",
          "ename": "NameError",
          "evalue": "ignored",
          "traceback": [
            "\u001b[0;31m---------------------------------------------------------------------------\u001b[0m",
            "\u001b[0;31mNameError\u001b[0m                                 Traceback (most recent call last)",
            "\u001b[0;32m<ipython-input-1-f95e5f55e3d1>\u001b[0m in \u001b[0;36m<module>\u001b[0;34m\u001b[0m\n\u001b[0;32m----> 1\u001b[0;31m \u001b[0mdescribe_pet\u001b[0m\u001b[0;34m(\u001b[0m\u001b[0;34m)\u001b[0m\u001b[0;34m\u001b[0m\u001b[0;34m\u001b[0m\u001b[0m\n\u001b[0m",
            "\u001b[0;31mNameError\u001b[0m: name 'describe_pet' is not defined"
          ]
        }
      ]
    },
    {
      "cell_type": "markdown",
      "source": [
        "---\n",
        "\n",
        "<b> Ejercicio 1</b>\n",
        "\n",
        "Escribe una función llamada **make_shirt()** que acepte un tamaño y el texto de un mensaje que debería estar impreso en la camiseta. La función debe imprimir una oración que resuma el tamaño de la camisa y el mensaje impreso en ella.\n",
        "\n",
        "Llame a la función una vez usando argumentos posicionales para hacer una camisa. Llame a la función por segunda vez usando argumentos de palabras clave.\n"
      ],
      "metadata": {
        "id": "ixT6ac8IrM_m"
      }
    },
    {
      "cell_type": "code",
      "source": [
        "def make_shirt(tamaño, mensaje):\n",
        "  \"\"\"La función imprime una oración que resume el tamaño de la camiseta y el mensaje impreso en ella.\"\"\"\n",
        "  print(f'El tamaño de la camiseta es {tamaño} y el mensaje es \"{mensaje}\".')\n",
        "\n"
      ],
      "metadata": {
        "id": "WUH6093hetPR"
      },
      "execution_count": null,
      "outputs": []
    },
    {
      "cell_type": "code",
      "source": [
        "make_shirt('S', 'Me gusta Python')"
      ],
      "metadata": {
        "id": "QDgZRP4afUb4",
        "outputId": "44b8d0f6-d2e0-4b20-ffdf-16a492e47d71",
        "colab": {
          "base_uri": "https://localhost:8080/"
        }
      },
      "execution_count": null,
      "outputs": [
        {
          "output_type": "stream",
          "name": "stdout",
          "text": [
            "El tamaño de la camiseta es S y el mensaje es \"Me gusta Python\".\n"
          ]
        }
      ]
    },
    {
      "cell_type": "markdown",
      "source": [
        "---\n",
        "\n",
        "<b> Ejercicio 2</b>\n",
        "\n",
        "Modifique la función **make_shirt()** para que las camisetas sean grandes por defecto con un mensaje que diga Me encanta Python. Haz una camiseta grande y una camiseta mediana con el mensaje predeterminado y una camiseta de cualquier tamaño con un mensaje diferente.\n"
      ],
      "metadata": {
        "id": "SFKpbJpntvpg"
      }
    },
    {
      "cell_type": "code",
      "source": [
        "def make_shirt(tamaño, mensaje = 'Me encanta Python'):\n",
        "  \"\"\"La función imprime una oración que resume el tamaño de la camiseta y el mensaje impreso en ella.\"\"\"\n",
        "  print(f'El tamaño de la camiseta es {tamaño} y el mensaje es \"{mensaje}\".')\n",
        "\n"
      ],
      "metadata": {
        "id": "wQnffLX4fzcB"
      },
      "execution_count": null,
      "outputs": []
    },
    {
      "cell_type": "code",
      "source": [
        "make_shirt('L')"
      ],
      "metadata": {
        "id": "31XFUoySf-Ik",
        "outputId": "c07e3246-8717-49fc-f7c2-d792976ed0d4",
        "colab": {
          "base_uri": "https://localhost:8080/"
        }
      },
      "execution_count": null,
      "outputs": [
        {
          "output_type": "stream",
          "name": "stdout",
          "text": [
            "El tamaño de la camiseta es L y el mensaje es \"Me encanta Python\".\n"
          ]
        }
      ]
    },
    {
      "cell_type": "code",
      "source": [
        "make_shirt('M')"
      ],
      "metadata": {
        "id": "-kZMAQ8ggEVy",
        "outputId": "845cfb2f-dcb8-4549-fcde-07354cf2f0f7",
        "colab": {
          "base_uri": "https://localhost:8080/"
        }
      },
      "execution_count": null,
      "outputs": [
        {
          "output_type": "stream",
          "name": "stdout",
          "text": [
            "El tamaño de la camiseta es M y el mensaje es \"Me encanta Python\".\n"
          ]
        }
      ]
    },
    {
      "cell_type": "code",
      "source": [
        "make_shirt('S', 'Saludos a todos')"
      ],
      "metadata": {
        "id": "ML-wEYnOgIcu",
        "outputId": "656e54b5-e671-4377-f79e-5a57f3df3ebe",
        "colab": {
          "base_uri": "https://localhost:8080/"
        }
      },
      "execution_count": null,
      "outputs": [
        {
          "output_type": "stream",
          "name": "stdout",
          "text": [
            "El tamaño de la camiseta es S y el mensaje es \"Saludos a todos\".\n"
          ]
        }
      ]
    },
    {
      "cell_type": "markdown",
      "source": [
        "---\n",
        "\n",
        "<b> Ejercicio 3</b>\n",
        "\n",
        "Escribe una función llamada **describe_city()** que acepte el nombre de una ciudad y su país. La función debe imprimir una oración simple, como Reykjavik está en Islandia. Asigne al parámetro para el país un valor predeterminado. Llame a su función para tres ciudades diferentes, al menos una de las cuales no se encuentra en el país predeterminado.\n",
        "\n",
        "----"
      ],
      "metadata": {
        "id": "G0qpoz40uBJt"
      }
    },
    {
      "cell_type": "code",
      "source": [
        "def describe_city(ciudad, pais = 'Alemania'):\n",
        "  \"\"\"Esta función muestra una ciudad y su país\"\"\"\n",
        "  print(f'{ciudad} esta en {pais}')\n",
        "  "
      ],
      "metadata": {
        "id": "wYkmaCJTgYzQ"
      },
      "execution_count": null,
      "outputs": []
    },
    {
      "cell_type": "code",
      "source": [
        "describe_city('Berlin')"
      ],
      "metadata": {
        "id": "yG4HIzFVg2b-",
        "outputId": "bc2e535b-dbaf-4be2-d202-cfe6ffdd98aa",
        "colab": {
          "base_uri": "https://localhost:8080/"
        }
      },
      "execution_count": null,
      "outputs": [
        {
          "output_type": "stream",
          "name": "stdout",
          "text": [
            "Berlin esta en Alemania\n"
          ]
        }
      ]
    },
    {
      "cell_type": "code",
      "source": [
        "describe_city(ciudad = 'Múnich')"
      ],
      "metadata": {
        "id": "gnw4dg72g8bB",
        "outputId": "ed898d24-6211-443e-b1e3-42afa11b5445",
        "colab": {
          "base_uri": "https://localhost:8080/"
        }
      },
      "execution_count": null,
      "outputs": [
        {
          "output_type": "stream",
          "name": "stdout",
          "text": [
            "Múnich esta en Alemania\n"
          ]
        }
      ]
    },
    {
      "cell_type": "code",
      "source": [
        "describe_city(ciudad = 'Lima', pais = 'Perú')"
      ],
      "metadata": {
        "id": "kOtceq7bhBRh",
        "outputId": "25fc8751-b643-4d0d-98ea-036b22a4abdc",
        "colab": {
          "base_uri": "https://localhost:8080/"
        }
      },
      "execution_count": null,
      "outputs": [
        {
          "output_type": "stream",
          "name": "stdout",
          "text": [
            "Lima esta en Perú\n"
          ]
        }
      ]
    },
    {
      "cell_type": "markdown",
      "source": [
        "# 3. Valores de retorno"
      ],
      "metadata": {
        "id": "KvclreKqv6oG"
      }
    },
    {
      "cell_type": "markdown",
      "source": [
        "### Retornando un valor simple"
      ],
      "metadata": {
        "id": "4MH4CoJqwGiI"
      }
    },
    {
      "cell_type": "code",
      "source": [
        "def suma(a, b):\n",
        "  \"\"\"this function add two values\"\"\"\n",
        "  resultado = a + b\n",
        "  return resultado\n",
        "  "
      ],
      "metadata": {
        "id": "17hSBuN4hXzj"
      },
      "execution_count": 2,
      "outputs": []
    },
    {
      "cell_type": "code",
      "source": [
        "suma(9, 15)"
      ],
      "metadata": {
        "id": "FSesr4GnhzX2",
        "outputId": "995e0094-074d-4a72-e06b-fc81d0e1e9aa",
        "colab": {
          "base_uri": "https://localhost:8080/"
        }
      },
      "execution_count": 3,
      "outputs": [
        {
          "output_type": "execute_result",
          "data": {
            "text/plain": [
              "24"
            ]
          },
          "metadata": {},
          "execution_count": 3
        }
      ]
    },
    {
      "cell_type": "code",
      "source": [
        "sum_res = suma(10, 15)\n",
        "sum_res*2"
      ],
      "metadata": {
        "id": "EsOHxS11hXiq",
        "outputId": "51a4389e-1f6e-4767-9a83-bfde9ad60846",
        "colab": {
          "base_uri": "https://localhost:8080/"
        }
      },
      "execution_count": 4,
      "outputs": [
        {
          "output_type": "execute_result",
          "data": {
            "text/plain": [
              "50"
            ]
          },
          "metadata": {},
          "execution_count": 4
        }
      ]
    },
    {
      "cell_type": "code",
      "source": [
        "\n",
        "def get_formatted_name(first_name, last_name):\n",
        "    \"\"\"Return a full name, neatly formatted.\"\"\"\n",
        "    full_name = f\"{first_name} {last_name}\"\n",
        "    return full_name.title()\n"
      ],
      "metadata": {
        "id": "tclx-QIeuAo1"
      },
      "execution_count": 5,
      "outputs": []
    },
    {
      "cell_type": "code",
      "source": [
        "get_formatted_name('jimi', 'hendrix')"
      ],
      "metadata": {
        "id": "hXeLNupPiWmg",
        "outputId": "d0ad9773-4fc6-4593-da32-1f2a65f10cde",
        "colab": {
          "base_uri": "https://localhost:8080/",
          "height": 36
        }
      },
      "execution_count": 6,
      "outputs": [
        {
          "output_type": "execute_result",
          "data": {
            "text/plain": [
              "'Jimi Hendrix'"
            ],
            "application/vnd.google.colaboratory.intrinsic+json": {
              "type": "string"
            }
          },
          "metadata": {},
          "execution_count": 6
        }
      ]
    },
    {
      "cell_type": "code",
      "source": [
        "musician = get_formatted_name('jimi', 'hendrix')"
      ],
      "metadata": {
        "id": "C5YJZL-VibbL"
      },
      "execution_count": 7,
      "outputs": []
    },
    {
      "cell_type": "code",
      "source": [
        "print(musician)"
      ],
      "metadata": {
        "id": "6ddSYS13iiQY",
        "outputId": "d974e390-234b-42a1-8003-ddb922c20f5a",
        "colab": {
          "base_uri": "https://localhost:8080/"
        }
      },
      "execution_count": 8,
      "outputs": [
        {
          "output_type": "stream",
          "name": "stdout",
          "text": [
            "Jimi Hendrix\n"
          ]
        }
      ]
    },
    {
      "cell_type": "code",
      "source": [
        "musician = get_formatted_name('jimi', 'hendrix')\n",
        "print(musician)"
      ],
      "metadata": {
        "id": "27sXBuEKwOim",
        "outputId": "6dd78b40-a2bc-44e2-f817-db3549d9a4bf",
        "colab": {
          "base_uri": "https://localhost:8080/"
        }
      },
      "execution_count": 9,
      "outputs": [
        {
          "output_type": "stream",
          "name": "stdout",
          "text": [
            "Jimi Hendrix\n"
          ]
        }
      ]
    },
    {
      "cell_type": "markdown",
      "source": [
        "### Argumento opcional"
      ],
      "metadata": {
        "id": "nao5U4jDw4jG"
      }
    },
    {
      "cell_type": "code",
      "source": [
        "def get_formatted_name(first_name, middle_name, last_name):\n",
        "    \"\"\"Return a full name, neatly formatted.\"\"\"\n",
        "    full_name = f\"{first_name} {middle_name} {last_name}\"\n",
        "    return full_name.title()\n"
      ],
      "metadata": {
        "id": "EeNB31AJw33c"
      },
      "execution_count": 10,
      "outputs": []
    },
    {
      "cell_type": "code",
      "source": [
        "musician = get_formatted_name('john', 'lee', 'hooker')\n",
        "print(musician)"
      ],
      "metadata": {
        "id": "vAPRn5tyw-Hf",
        "outputId": "00d7b26b-e8fa-40fe-dcd7-293935406b91",
        "colab": {
          "base_uri": "https://localhost:8080/"
        }
      },
      "execution_count": 11,
      "outputs": [
        {
          "output_type": "stream",
          "name": "stdout",
          "text": [
            "John Lee Hooker\n"
          ]
        }
      ]
    },
    {
      "cell_type": "code",
      "source": [
        "def get_formatted_name(first_name, last_name, middle_name=''):\n",
        "  \"\"\"Return a full name\"\"\"\n",
        "  if middle_name:\n",
        "    full_name = f\"{first_name} {middle_name} {last_name}\"\n",
        "  else:\n",
        "    full_name = f\"{first_name} {last_name}\"\n",
        "  return full_name.title()\n"
      ],
      "metadata": {
        "id": "_dFbUYqVjA_T"
      },
      "execution_count": 19,
      "outputs": []
    },
    {
      "cell_type": "code",
      "source": [
        "musician = get_formatted_name('jimi', 'hendrix')\n",
        "print(musician)"
      ],
      "metadata": {
        "id": "4AVIjrmZyFAA",
        "outputId": "bbc4266a-3593-4d71-cb79-d847e3837dd4",
        "colab": {
          "base_uri": "https://localhost:8080/"
        }
      },
      "execution_count": 20,
      "outputs": [
        {
          "output_type": "stream",
          "name": "stdout",
          "text": [
            "Jimi Hendrix\n"
          ]
        }
      ]
    },
    {
      "cell_type": "code",
      "source": [
        "musician = get_formatted_name('john', 'hooker', 'lee')\n",
        "print(musician)"
      ],
      "metadata": {
        "id": "MdzB5-zhzC47",
        "outputId": "dd361f0d-6d04-4369-8dbe-74ced7c80ff8",
        "colab": {
          "base_uri": "https://localhost:8080/"
        }
      },
      "execution_count": 21,
      "outputs": [
        {
          "output_type": "stream",
          "name": "stdout",
          "text": [
            "John Lee Hooker\n"
          ]
        }
      ]
    },
    {
      "cell_type": "markdown",
      "source": [
        "### Retornar un diccionario"
      ],
      "metadata": {
        "id": "vpguPIrPzgtU"
      }
    },
    {
      "cell_type": "code",
      "source": [
        "diccionario = {'John':'Es el docente de la clase',\n",
        " 'Ivan': 'Aprobó el curso',\n",
        " 'Robinson': 'Aprobó el curso',\n",
        " 'Antonio': 'Desaprobó el curso'}"
      ],
      "metadata": {
        "id": "hx6tNF2M11oP"
      },
      "execution_count": 24,
      "outputs": []
    },
    {
      "cell_type": "code",
      "source": [
        "diccionario['Antonio']"
      ],
      "metadata": {
        "id": "aah1g45M2Wwi",
        "outputId": "548a8b54-c8fb-4087-9ecd-024f56a2b691",
        "colab": {
          "base_uri": "https://localhost:8080/",
          "height": 36
        }
      },
      "execution_count": 25,
      "outputs": [
        {
          "output_type": "execute_result",
          "data": {
            "text/plain": [
              "'Desaprobó el curso'"
            ],
            "application/vnd.google.colaboratory.intrinsic+json": {
              "type": "string"
            }
          },
          "metadata": {},
          "execution_count": 25
        }
      ]
    },
    {
      "cell_type": "code",
      "source": [
        "diccionario['Antonio'] = 'Aprobó el curso, hubo un error en la calificación'"
      ],
      "metadata": {
        "id": "yaMcRAKq2cf5"
      },
      "execution_count": 29,
      "outputs": []
    },
    {
      "cell_type": "code",
      "source": [
        "diccionario['Antonio']"
      ],
      "metadata": {
        "id": "q_rC28ck2pT5",
        "outputId": "4e7c7f96-2b87-4348-cc1c-5a7097fe7f29",
        "colab": {
          "base_uri": "https://localhost:8080/",
          "height": 36
        }
      },
      "execution_count": 30,
      "outputs": [
        {
          "output_type": "execute_result",
          "data": {
            "text/plain": [
              "'Aprobó el curso, hubo un error en la calificación'"
            ],
            "application/vnd.google.colaboratory.intrinsic+json": {
              "type": "string"
            }
          },
          "metadata": {},
          "execution_count": 30
        }
      ]
    },
    {
      "cell_type": "code",
      "source": [
        "my_dict = {'EN01': \"Clases de ingles\",\n",
        "           'PY02': \"Clases de python\",\n",
        "           'MU03': \"Clases de musica\"}\n"
      ],
      "metadata": {
        "id": "WRoRgzkKk6or"
      },
      "execution_count": 31,
      "outputs": []
    },
    {
      "cell_type": "code",
      "source": [
        "my_dict['PY02']"
      ],
      "metadata": {
        "id": "5OPHWg2llbFL",
        "outputId": "45ecef36-3c13-4fe6-8eb6-1607d8e49e39",
        "colab": {
          "base_uri": "https://localhost:8080/",
          "height": 36
        }
      },
      "execution_count": 32,
      "outputs": [
        {
          "output_type": "execute_result",
          "data": {
            "text/plain": [
              "'Clases de python'"
            ],
            "application/vnd.google.colaboratory.intrinsic+json": {
              "type": "string"
            }
          },
          "metadata": {},
          "execution_count": 32
        }
      ]
    },
    {
      "cell_type": "code",
      "source": [
        "my_dict['DA04'] = \"Clases de danza\""
      ],
      "metadata": {
        "id": "EbgvJud4lxiF"
      },
      "execution_count": 33,
      "outputs": []
    },
    {
      "cell_type": "code",
      "source": [
        "my_dict"
      ],
      "metadata": {
        "id": "zUESmXDgl471",
        "outputId": "b84ac3f6-40c2-407c-fc3d-29d22c26766e",
        "colab": {
          "base_uri": "https://localhost:8080/"
        }
      },
      "execution_count": 34,
      "outputs": [
        {
          "output_type": "execute_result",
          "data": {
            "text/plain": [
              "{'EN01': 'Clases de ingles',\n",
              " 'PY02': 'Clases de python',\n",
              " 'MU03': 'Clases de musica',\n",
              " 'DA04': 'Clases de danza'}"
            ]
          },
          "metadata": {},
          "execution_count": 34
        }
      ]
    },
    {
      "cell_type": "code",
      "source": [
        "def build_person(first_name, last_name):\n",
        "  \"\"\"Return a dictionary of information about a person.\"\"\"\n",
        "  person = {'first': first_name, 'last': last_name}\n",
        "  return person\n"
      ],
      "metadata": {
        "id": "YI9nCBdEzxk0"
      },
      "execution_count": 35,
      "outputs": []
    },
    {
      "cell_type": "code",
      "source": [
        "musician = build_person('jimi', 'hendrix')\n",
        "print(musician)"
      ],
      "metadata": {
        "id": "z2mXqnXI0Jet",
        "outputId": "08cc3d47-b08f-4523-e332-6172ee7f6a5a",
        "colab": {
          "base_uri": "https://localhost:8080/"
        }
      },
      "execution_count": 36,
      "outputs": [
        {
          "output_type": "stream",
          "name": "stdout",
          "text": [
            "{'first': 'jimi', 'last': 'hendrix'}\n"
          ]
        }
      ]
    },
    {
      "cell_type": "code",
      "source": [
        "def build_person(first_name, last_name, age=None):\n",
        "    \"\"\"Return a dictionary of information about a person.\"\"\"\n",
        "    person = {'first': first_name, 'last': last_name}\n",
        "    if age:\n",
        "        person['age'] = age\n",
        "    return person\n"
      ],
      "metadata": {
        "id": "3Pw2MCrY0gqb"
      },
      "execution_count": 37,
      "outputs": []
    },
    {
      "cell_type": "code",
      "source": [
        "musician = build_person('jimi', 'hendrix', age=27)\n",
        "print(musician)"
      ],
      "metadata": {
        "colab": {
          "base_uri": "https://localhost:8080/"
        },
        "id": "_7hf5yuE0iS0",
        "outputId": "4cf34ac6-31a6-4a77-e7be-17a83ec30e95"
      },
      "execution_count": 38,
      "outputs": [
        {
          "output_type": "stream",
          "name": "stdout",
          "text": [
            "{'first': 'jimi', 'last': 'hendrix', 'age': 27}\n"
          ]
        }
      ]
    },
    {
      "cell_type": "code",
      "source": [
        "musician = build_person('jimi', 'hendrix')\n",
        "print(musician)"
      ],
      "metadata": {
        "id": "524-cV8DnDs2",
        "outputId": "e94daa29-28c1-41c8-a497-c9ee819e3da6",
        "colab": {
          "base_uri": "https://localhost:8080/"
        }
      },
      "execution_count": 39,
      "outputs": [
        {
          "output_type": "stream",
          "name": "stdout",
          "text": [
            "{'first': 'jimi', 'last': 'hendrix'}\n"
          ]
        }
      ]
    },
    {
      "cell_type": "markdown",
      "source": [
        "# 4. Usando funciones con loops while"
      ],
      "metadata": {
        "id": "tSAkV-as0rdS"
      }
    },
    {
      "cell_type": "code",
      "source": [
        "def get_formatted_name(first_name, last_name):\n",
        "    \"\"\"Return a full name, neatly formatted.\"\"\"\n",
        "    full_name = f\"{first_name} {last_name}\"\n",
        "    return full_name.title()\n"
      ],
      "metadata": {
        "id": "c0OXOywJ1G3J"
      },
      "execution_count": 40,
      "outputs": []
    },
    {
      "cell_type": "code",
      "source": [
        "\n",
        "# Este es un loop infinito!\n",
        "while True:\n",
        "    print(\"\\nPlease tell me your name:\")\n",
        "    f_name = input(\"First name: \")\n",
        "    l_name = input(\"Last name: \")\n",
        "    formatted_name = get_formatted_name(f_name, l_name)\n",
        "    print(f\"\\nHello, {formatted_name}!\")\n"
      ],
      "metadata": {
        "id": "zcGug0pB1IXp",
        "outputId": "15f6a131-2177-4e3b-9201-ed3f6303fd05",
        "colab": {
          "base_uri": "https://localhost:8080/",
          "height": 623
        }
      },
      "execution_count": 42,
      "outputs": [
        {
          "output_type": "stream",
          "name": "stdout",
          "text": [
            "\n",
            "Please tell me your name:\n",
            "First name: John\n",
            "Last name: Caballero\n",
            "\n",
            "Hello, John Caballero!\n",
            "\n",
            "Please tell me your name:\n",
            "First name: Eduardo\n",
            "Last name: Peralta\n",
            "\n",
            "Hello, Eduardo Peralta!\n",
            "\n",
            "Please tell me your name:\n"
          ]
        },
        {
          "output_type": "error",
          "ename": "KeyboardInterrupt",
          "evalue": "ignored",
          "traceback": [
            "\u001b[0;31m---------------------------------------------------------------------------\u001b[0m",
            "\u001b[0;31mKeyboardInterrupt\u001b[0m                         Traceback (most recent call last)",
            "\u001b[0;32m<ipython-input-42-639057a11873>\u001b[0m in \u001b[0;36m<module>\u001b[0;34m\u001b[0m\n\u001b[1;32m      2\u001b[0m \u001b[0;32mwhile\u001b[0m \u001b[0;32mTrue\u001b[0m\u001b[0;34m:\u001b[0m\u001b[0;34m\u001b[0m\u001b[0;34m\u001b[0m\u001b[0m\n\u001b[1;32m      3\u001b[0m     \u001b[0mprint\u001b[0m\u001b[0;34m(\u001b[0m\u001b[0;34m\"\\nPlease tell me your name:\"\u001b[0m\u001b[0;34m)\u001b[0m\u001b[0;34m\u001b[0m\u001b[0;34m\u001b[0m\u001b[0m\n\u001b[0;32m----> 4\u001b[0;31m     \u001b[0mf_name\u001b[0m \u001b[0;34m=\u001b[0m \u001b[0minput\u001b[0m\u001b[0;34m(\u001b[0m\u001b[0;34m\"First name: \"\u001b[0m\u001b[0;34m)\u001b[0m\u001b[0;34m\u001b[0m\u001b[0;34m\u001b[0m\u001b[0m\n\u001b[0m\u001b[1;32m      5\u001b[0m     \u001b[0ml_name\u001b[0m \u001b[0;34m=\u001b[0m \u001b[0minput\u001b[0m\u001b[0;34m(\u001b[0m\u001b[0;34m\"Last name: \"\u001b[0m\u001b[0;34m)\u001b[0m\u001b[0;34m\u001b[0m\u001b[0;34m\u001b[0m\u001b[0m\n\u001b[1;32m      6\u001b[0m     \u001b[0mformatted_name\u001b[0m \u001b[0;34m=\u001b[0m \u001b[0mget_formatted_name\u001b[0m\u001b[0;34m(\u001b[0m\u001b[0mf_name\u001b[0m\u001b[0;34m,\u001b[0m \u001b[0ml_name\u001b[0m\u001b[0;34m)\u001b[0m\u001b[0;34m\u001b[0m\u001b[0;34m\u001b[0m\u001b[0m\n",
            "\u001b[0;32m/usr/local/lib/python3.7/dist-packages/ipykernel/kernelbase.py\u001b[0m in \u001b[0;36mraw_input\u001b[0;34m(self, prompt)\u001b[0m\n\u001b[1;32m    861\u001b[0m             \u001b[0mself\u001b[0m\u001b[0;34m.\u001b[0m\u001b[0m_parent_ident\u001b[0m\u001b[0;34m,\u001b[0m\u001b[0;34m\u001b[0m\u001b[0;34m\u001b[0m\u001b[0m\n\u001b[1;32m    862\u001b[0m             \u001b[0mself\u001b[0m\u001b[0;34m.\u001b[0m\u001b[0m_parent_header\u001b[0m\u001b[0;34m,\u001b[0m\u001b[0;34m\u001b[0m\u001b[0;34m\u001b[0m\u001b[0m\n\u001b[0;32m--> 863\u001b[0;31m             \u001b[0mpassword\u001b[0m\u001b[0;34m=\u001b[0m\u001b[0;32mFalse\u001b[0m\u001b[0;34m,\u001b[0m\u001b[0;34m\u001b[0m\u001b[0;34m\u001b[0m\u001b[0m\n\u001b[0m\u001b[1;32m    864\u001b[0m         )\n\u001b[1;32m    865\u001b[0m \u001b[0;34m\u001b[0m\u001b[0m\n",
            "\u001b[0;32m/usr/local/lib/python3.7/dist-packages/ipykernel/kernelbase.py\u001b[0m in \u001b[0;36m_input_request\u001b[0;34m(self, prompt, ident, parent, password)\u001b[0m\n\u001b[1;32m    902\u001b[0m             \u001b[0;32mexcept\u001b[0m \u001b[0mKeyboardInterrupt\u001b[0m\u001b[0;34m:\u001b[0m\u001b[0;34m\u001b[0m\u001b[0;34m\u001b[0m\u001b[0m\n\u001b[1;32m    903\u001b[0m                 \u001b[0;31m# re-raise KeyboardInterrupt, to truncate traceback\u001b[0m\u001b[0;34m\u001b[0m\u001b[0;34m\u001b[0m\u001b[0;34m\u001b[0m\u001b[0m\n\u001b[0;32m--> 904\u001b[0;31m                 \u001b[0;32mraise\u001b[0m \u001b[0mKeyboardInterrupt\u001b[0m\u001b[0;34m(\u001b[0m\u001b[0;34m\"Interrupted by user\"\u001b[0m\u001b[0;34m)\u001b[0m \u001b[0;32mfrom\u001b[0m \u001b[0;32mNone\u001b[0m\u001b[0;34m\u001b[0m\u001b[0;34m\u001b[0m\u001b[0m\n\u001b[0m\u001b[1;32m    905\u001b[0m             \u001b[0;32mexcept\u001b[0m \u001b[0mException\u001b[0m \u001b[0;32mas\u001b[0m \u001b[0me\u001b[0m\u001b[0;34m:\u001b[0m\u001b[0;34m\u001b[0m\u001b[0;34m\u001b[0m\u001b[0m\n\u001b[1;32m    906\u001b[0m                 \u001b[0mself\u001b[0m\u001b[0;34m.\u001b[0m\u001b[0mlog\u001b[0m\u001b[0;34m.\u001b[0m\u001b[0mwarning\u001b[0m\u001b[0;34m(\u001b[0m\u001b[0;34m\"Invalid Message:\"\u001b[0m\u001b[0;34m,\u001b[0m \u001b[0mexc_info\u001b[0m\u001b[0;34m=\u001b[0m\u001b[0;32mTrue\u001b[0m\u001b[0;34m)\u001b[0m\u001b[0;34m\u001b[0m\u001b[0;34m\u001b[0m\u001b[0m\n",
            "\u001b[0;31mKeyboardInterrupt\u001b[0m: Interrupted by user"
          ]
        }
      ]
    },
    {
      "cell_type": "code",
      "source": [
        "def get_formatted_name(first_name, last_name):\n",
        "    \"\"\"Return a full name, neatly formatted.\"\"\"\n",
        "    full_name = f\"{first_name} {last_name}\"\n",
        "    return full_name\n",
        "\n",
        "while True:\n",
        "    print(\"\\nPlease tell me your name:\")\n",
        "    print(\"(enter 'quit' at any time to quit)\")\n",
        "\n",
        "    f_name = input(\"First name: \")\n",
        "    if f_name == 'quit':\n",
        "        break\n",
        "\n",
        "    l_name = input(\"Last name: \")\n",
        "    if l_name == 'quit':\n",
        "        break\n",
        "\n",
        "    formatted_name = get_formatted_name(f_name, l_name)\n",
        "    print(f\"\\nHello, {formatted_name}!\")\n",
        "    "
      ],
      "metadata": {
        "id": "s6o4iZze1INO",
        "outputId": "edf0f515-b0c8-4f54-fce0-8de43de86b21",
        "colab": {
          "base_uri": "https://localhost:8080/"
        }
      },
      "execution_count": 43,
      "outputs": [
        {
          "name": "stdout",
          "output_type": "stream",
          "text": [
            "\n",
            "Please tell me your name:\n",
            "(enter 'quit' at any time to quit)\n",
            "First name: John\n",
            "Last name: quit\n"
          ]
        }
      ]
    },
    {
      "cell_type": "markdown",
      "source": [
        "---\n",
        "\n",
        "<b> Ejercicio 1</b>\n",
        "\n",
        "Escribe una función llamada **city_country()** que tome el nombre de una ciudad y su país. La función debería devolver una cadena con el formato siguiente:\n",
        "\n",
        "\"Santiago, Chile\"\n",
        "\n",
        "Llame a su función con al menos tres pares de ciudades y países e imprima los valores que se devuelven.\n"
      ],
      "metadata": {
        "id": "WtFtOrbS4BzE"
      }
    },
    {
      "cell_type": "code",
      "source": [
        "def city_country(city, country):\n",
        "   \"\"\" This funtion returns a city and a country\"\"\"\n",
        "   full_name = f\" {city}, {country} \"\n",
        "   return full_name.title()"
      ],
      "metadata": {
        "id": "9qwwbKKe7yzR"
      },
      "execution_count": 44,
      "outputs": []
    },
    {
      "cell_type": "code",
      "source": [
        "print(city_country(city = 'buenos aires', country = 'argentina'))\n",
        "print(city_country(city = 'montevideo', country = 'uruguay'))\n",
        "print(city_country(city = 'barcelona', country = 'españa'))"
      ],
      "metadata": {
        "id": "ZmeC7QSg8Krb",
        "outputId": "badaa0e8-5769-4ef8-d6b2-4decfb249b11",
        "colab": {
          "base_uri": "https://localhost:8080/"
        }
      },
      "execution_count": 45,
      "outputs": [
        {
          "output_type": "stream",
          "name": "stdout",
          "text": [
            " Buenos Aires, Argentina \n",
            " Montevideo, Uruguay \n",
            " Barcelona, España \n"
          ]
        }
      ]
    },
    {
      "cell_type": "code",
      "source": [
        "def city_country(ciudades, paises):\n",
        "   \"\"\" retorna paises y ciudades\"\"\"\n",
        "   full_city = f\" {ciudades}, {paises} \"\n",
        "   return full_city.title()\n",
        "\n",
        "while True:\n",
        "   print(\"Escriba quit si desea salir\")\n",
        "\n",
        "   f_ciudades = input(\"Ciudad: \")\n",
        "   if f_ciudades =='quit':\n",
        "       break\n",
        "\n",
        "   f_paises = input(\"Pais: \")\n",
        "   if f_paises == 'quit':\n",
        "       break\n",
        "   city_completed = city_country(f_ciudades, f_paises)\n",
        "   print(f\"{city_completed}\")\n"
      ],
      "metadata": {
        "id": "WSb8L5D2yJwU",
        "outputId": "0ea62776-6267-459a-e301-58011e3380a5",
        "colab": {
          "base_uri": "https://localhost:8080/"
        }
      },
      "execution_count": 46,
      "outputs": [
        {
          "name": "stdout",
          "output_type": "stream",
          "text": [
            "Escriba quit si desea salir\n",
            "Ciudad: Lima\n",
            "Pais: Perú\n",
            " Lima, Perú \n",
            "Escriba quit si desea salir\n",
            "Ciudad: quit\n"
          ]
        }
      ]
    },
    {
      "cell_type": "markdown",
      "source": [
        "---\n",
        "\n",
        "<b> Ejercicio 2</b>\n",
        "\n",
        "Escriba una función llamada **make_album()** que cree un diccionario que describa un álbum de música. La función debe tomar el nombre de un artista y el título de un álbum, y debe devolver un diccionario que contenga estos dos datos. Utilice la función para crear tres diccionarios que representen diferentes álbumes. Imprima cada valor devuelto para mostrar que los diccionarios están almacenando la información del álbum correctamente.\n",
        "\n",
        "Use <b>None</b> para agregar un parámetro opcional a **make_album()** que le permita almacenar la cantidad de canciones en un álbum. Si la línea de llamada incluye un valor para la cantidad de canciones, agregue ese valor al diccionario del álbum. Realice al menos una nueva llamada de función que incluya la cantidad de canciones en un álbum."
      ],
      "metadata": {
        "id": "z06Pz7sy4YG0"
      }
    },
    {
      "cell_type": "code",
      "source": [
        "def make_album(nombre1_artista, nombre2_titulo, canciones=None):\n",
        "    \"\"\"Regresar un diccionario sobre la información de un álbum.\"\"\"\n",
        "    album = {'Artista': nombre1_artista, 'Título': nombre2_titulo}\n",
        "    if canciones:\n",
        "        album['canciones'] = canciones\n",
        "    return album"
      ],
      "metadata": {
        "id": "rUN4rV5L-eDY"
      },
      "execution_count": 47,
      "outputs": []
    },
    {
      "cell_type": "code",
      "source": [
        "album1 = make_album('Queen', 'A Night at the Opera', canciones=12)\n",
        "print(album1)"
      ],
      "metadata": {
        "id": "0OxAmEJI9jpA",
        "outputId": "eac8815a-4e34-462f-d94a-a7e058f9e3a8",
        "colab": {
          "base_uri": "https://localhost:8080/"
        }
      },
      "execution_count": 48,
      "outputs": [
        {
          "output_type": "stream",
          "name": "stdout",
          "text": [
            "{'Artista': 'Queen', 'Título': 'A Night at the Opera', 'canciones': 12}\n"
          ]
        }
      ]
    },
    {
      "cell_type": "code",
      "source": [
        "album1 = make_album('Queen', 'A Night at the Opera')\n",
        "print(album1)"
      ],
      "metadata": {
        "id": "47PWmy-e_yOy",
        "outputId": "4f3bf7fa-9f7b-4aeb-ea19-c7bfc4a86814",
        "colab": {
          "base_uri": "https://localhost:8080/"
        }
      },
      "execution_count": 49,
      "outputs": [
        {
          "output_type": "stream",
          "name": "stdout",
          "text": [
            "{'Artista': 'Queen', 'Título': 'A Night at the Opera'}\n"
          ]
        }
      ]
    },
    {
      "cell_type": "markdown",
      "source": [
        "---\n",
        "\n",
        "<b> Ejercicio 3</b>\n",
        "\n",
        "Comience con su programa del ejercicio anterior. Escriba un ciclo while que permita a los usuarios ingresar el artista y el título de un álbum. Una vez que tenga esa información, llame a **make_album()** con la entrada del usuario e imprima el diccionario que se crea. Asegúrese de incluir un valor de salida en el ciclo while.\n",
        "\n",
        "---"
      ],
      "metadata": {
        "id": "5iazrd6w5n-m"
      }
    },
    {
      "cell_type": "code",
      "source": [
        "def make_album(nombre1_artista, nombre2_titulo, canciones=None):\n",
        "    \"\"\"Regresar un diccionario sobre la información de un álbum.\"\"\"\n",
        "    album = {'Artista': nombre1_artista, 'Título': nombre2_titulo}\n",
        "    if canciones:\n",
        "        album['canciones'] = canciones\n",
        "    return album\n",
        "\n",
        "while True:\n",
        "    print(\"\\nEscribe los datos del álbum:\")\n",
        "    print(\"(Ingrese 'quit' en cualquier momento para salir.)\")\n",
        "\n",
        "    nom1_artista = input(\"Artista: \")\n",
        "    if nom1_artista == 'quit':\n",
        "        break\n",
        "\n",
        "    nom2_titulo = input(\"Título: \")\n",
        "    if nom2_titulo == 'quit':\n",
        "        break\n",
        "\n",
        "    nom3_canciones = input(\"Canciones: \")\n",
        "    if nom3_canciones == 'quit':\n",
        "        break\n",
        "    \n",
        "    album_name = make_album(nom1_artista, nom2_titulo, nom3_canciones)\n",
        "    print(f'{album_name}')\n"
      ],
      "metadata": {
        "id": "CWqejQBiC2ef",
        "outputId": "e89bbece-e56d-46b8-cc44-44bd77844bd6",
        "colab": {
          "base_uri": "https://localhost:8080/"
        }
      },
      "execution_count": 58,
      "outputs": [
        {
          "name": "stdout",
          "output_type": "stream",
          "text": [
            "\n",
            "Escribe los datos del álbum:\n",
            "(Ingrese 'quit' en cualquier momento para salir.)\n",
            "Artista: Queen\n",
            "Título: A Night at the Opera\n",
            "Canciones: 12\n",
            "{'Artista': 'Queen', 'Título': 'A Night at the Opera', 'canciones': '12'}\n",
            "\n",
            "Escribe los datos del álbum:\n",
            "(Ingrese 'quit' en cualquier momento para salir.)\n",
            "Artista: quit\n"
          ]
        }
      ]
    },
    {
      "cell_type": "markdown",
      "source": [
        "# 5. Usando Listas"
      ],
      "metadata": {
        "id": "pdvnfTPo6-Lq"
      }
    },
    {
      "cell_type": "code",
      "source": [
        "def greet_users(names):\n",
        "    \"\"\"Print a simple greeting to each user in the list.\"\"\"\n",
        "    for name in names:\n",
        "      msg = f\"Hola, {name}!\"\n",
        "      print(msg)"
      ],
      "metadata": {
        "id": "4dRXDc0j1Cbw"
      },
      "execution_count": 60,
      "outputs": []
    },
    {
      "cell_type": "code",
      "source": [
        "greet_users(['John', 'Tamara', 'Fernando'])"
      ],
      "metadata": {
        "id": "p9ZGdx5H1Smm",
        "outputId": "b869f97a-960d-4e1b-bcb8-af8551479d75",
        "colab": {
          "base_uri": "https://localhost:8080/"
        }
      },
      "execution_count": 61,
      "outputs": [
        {
          "output_type": "stream",
          "name": "stdout",
          "text": [
            "Hola, John!\n",
            "Hola, Tamara!\n",
            "Hola, Fernando!\n"
          ]
        }
      ]
    },
    {
      "cell_type": "code",
      "source": [
        "def greet_users(names):\n",
        "    \"\"\"Print a simple greeting to each user in the list.\"\"\"\n",
        "    for name in names:\n",
        "        msg = f\"Hello, {name.title()}!\"\n",
        "        print(msg)\n"
      ],
      "metadata": {
        "id": "BGbejE2r4A1P"
      },
      "execution_count": 62,
      "outputs": []
    },
    {
      "cell_type": "code",
      "source": [
        "usernames = ['hannah', 'ty', 'margot']\n",
        "greet_users(usernames)"
      ],
      "metadata": {
        "id": "TfEjqeW08hQV",
        "outputId": "8f49478a-1422-42d1-bd2c-db087dc0ea19",
        "colab": {
          "base_uri": "https://localhost:8080/"
        }
      },
      "execution_count": 63,
      "outputs": [
        {
          "output_type": "stream",
          "name": "stdout",
          "text": [
            "Hello, Hannah!\n",
            "Hello, Ty!\n",
            "Hello, Margot!\n"
          ]
        }
      ]
    },
    {
      "cell_type": "markdown",
      "source": [
        "### Modificar una lista en una función"
      ],
      "metadata": {
        "id": "irQJwQco81wH"
      }
    },
    {
      "cell_type": "code",
      "source": [
        "unprinted_designs = ['phone case', 'robot pendant', 'dodecahedron']\n",
        "unprinted_designs"
      ],
      "metadata": {
        "id": "XqjKX2vW2Djg",
        "outputId": "ee5861a2-42dc-4ac0-9274-6cb6b31a4ced",
        "colab": {
          "base_uri": "https://localhost:8080/"
        }
      },
      "execution_count": 2,
      "outputs": [
        {
          "output_type": "execute_result",
          "data": {
            "text/plain": [
              "['phone case', 'robot pendant', 'dodecahedron']"
            ]
          },
          "metadata": {},
          "execution_count": 2
        }
      ]
    },
    {
      "cell_type": "code",
      "source": [
        "unprinted_designs[1]"
      ],
      "metadata": {
        "id": "YpdWCloxMBZw",
        "outputId": "7e5a715a-4af5-4ed1-94d8-74596a2366c9",
        "colab": {
          "base_uri": "https://localhost:8080/",
          "height": 36
        }
      },
      "execution_count": 3,
      "outputs": [
        {
          "output_type": "execute_result",
          "data": {
            "text/plain": [
              "'robot pendant'"
            ],
            "application/vnd.google.colaboratory.intrinsic+json": {
              "type": "string"
            }
          },
          "metadata": {},
          "execution_count": 3
        }
      ]
    },
    {
      "cell_type": "code",
      "source": [
        "unprinted_designs.pop(0)\n"
      ],
      "metadata": {
        "id": "-i80y_zF2Bed",
        "outputId": "dab17d03-3eeb-4ccb-baf5-b77947886253",
        "colab": {
          "base_uri": "https://localhost:8080/",
          "height": 36
        }
      },
      "execution_count": 4,
      "outputs": [
        {
          "output_type": "execute_result",
          "data": {
            "text/plain": [
              "'phone case'"
            ],
            "application/vnd.google.colaboratory.intrinsic+json": {
              "type": "string"
            }
          },
          "metadata": {},
          "execution_count": 4
        }
      ]
    },
    {
      "cell_type": "code",
      "source": [
        "unprinted_designs"
      ],
      "metadata": {
        "id": "pmlp8rXN2Lt6",
        "outputId": "6d0c767b-1b25-46cd-bb0e-08d3ab6e30c3",
        "colab": {
          "base_uri": "https://localhost:8080/"
        }
      },
      "execution_count": 74,
      "outputs": [
        {
          "output_type": "execute_result",
          "data": {
            "text/plain": [
              "['robot pendant', 'dodecahedron']"
            ]
          },
          "metadata": {},
          "execution_count": 74
        }
      ]
    },
    {
      "cell_type": "code",
      "source": [
        "completed_models = []"
      ],
      "metadata": {
        "id": "cGnEviba2fUf"
      },
      "execution_count": 5,
      "outputs": []
    },
    {
      "cell_type": "code",
      "source": [
        "completed_models.append('John')"
      ],
      "metadata": {
        "id": "fdEvjPMq2hBN"
      },
      "execution_count": 6,
      "outputs": []
    },
    {
      "cell_type": "code",
      "source": [
        "completed_models.append('Jean')"
      ],
      "metadata": {
        "id": "3uaSdZdYMPeb"
      },
      "execution_count": 8,
      "outputs": []
    },
    {
      "cell_type": "code",
      "source": [
        "completed_models"
      ],
      "metadata": {
        "id": "6w1LVHrt2kCw",
        "outputId": "b9af1f0e-c33d-4a84-933c-dad0bd5735db",
        "colab": {
          "base_uri": "https://localhost:8080/"
        }
      },
      "execution_count": 9,
      "outputs": [
        {
          "output_type": "execute_result",
          "data": {
            "text/plain": [
              "['John', 'Jean']"
            ]
          },
          "metadata": {},
          "execution_count": 9
        }
      ]
    },
    {
      "cell_type": "code",
      "source": [
        "# Comience con algunos diseños que deben imprimirse.\n",
        "unprinted_designs = ['phone case', 'robot pendant', 'dodecahedron']\n",
        "completed_models = []\n",
        "\n",
        "# Simule la impresión de cada diseño, hasta que no quede ninguno.\n",
        "# Mueva cada diseño a complete_models después de la impresión.\n",
        "while unprinted_designs:\n",
        "    current_design = unprinted_designs.pop()\n",
        "    print(f\"Printing model: {current_design}\")\n",
        "    completed_models.append(current_design)\n",
        "\n",
        "# Mostrar todos los modelos completados.\n",
        "print(\"\\nThe following models have been printed:\")\n",
        "for completed_model in completed_models:\n",
        "    print(completed_model)"
      ],
      "metadata": {
        "id": "68vDvNTE85BG",
        "outputId": "54f362d4-8dea-4bcf-d413-363ca3847cd3",
        "colab": {
          "base_uri": "https://localhost:8080/"
        }
      },
      "execution_count": 10,
      "outputs": [
        {
          "output_type": "stream",
          "name": "stdout",
          "text": [
            "Printing model: dodecahedron\n",
            "Printing model: robot pendant\n",
            "Printing model: phone case\n",
            "\n",
            "The following models have been printed:\n",
            "dodecahedron\n",
            "robot pendant\n",
            "phone case\n"
          ]
        }
      ]
    },
    {
      "cell_type": "code",
      "source": [
        "\n",
        "def print_models(unprinted_designs, completed_models):\n",
        "    \"\"\"\n",
        "    Simulate printing each design, until none are left.\n",
        "    Move each design to completed_models after printing.\n",
        "    \"\"\"\n",
        "    while unprinted_designs:\n",
        "        current_design = unprinted_designs.pop()\n",
        "        print(f\"Printing model: {current_design}\")\n",
        "        completed_models.append(current_design)\n",
        "\n",
        "def show_completed_models(completed_models):\n",
        "    \"\"\"Show all the models that were printed.\"\"\"\n",
        "    print(\"\\nThe following models have been printed:\")\n",
        "    for completed_model in completed_models:\n",
        "        print(completed_model)\n",
        "\n"
      ],
      "metadata": {
        "id": "d2v14isCBl7k"
      },
      "execution_count": 11,
      "outputs": []
    },
    {
      "cell_type": "code",
      "source": [
        "unprinted_designs = ['phone case', 'robot pendant', 'dodecahedron']\n",
        "completed_models = []\n",
        "\n"
      ],
      "metadata": {
        "id": "3F3aSIhnCJRS"
      },
      "execution_count": 12,
      "outputs": []
    },
    {
      "cell_type": "code",
      "source": [
        "print_models(unprinted_designs, completed_models)\n",
        "show_completed_models(completed_models)\n"
      ],
      "metadata": {
        "id": "wH-0lGn73esW",
        "outputId": "7e05bdd7-f53e-43be-8f09-30918c93c185",
        "colab": {
          "base_uri": "https://localhost:8080/"
        }
      },
      "execution_count": 13,
      "outputs": [
        {
          "output_type": "stream",
          "name": "stdout",
          "text": [
            "Printing model: dodecahedron\n",
            "Printing model: robot pendant\n",
            "Printing model: phone case\n",
            "\n",
            "The following models have been printed:\n",
            "dodecahedron\n",
            "robot pendant\n",
            "phone case\n"
          ]
        }
      ]
    },
    {
      "cell_type": "markdown",
      "source": [
        "---\n",
        "\n",
        "<b> Ejercicio 1</b>\n",
        "\n",
        "Haz una lista que contenga una serie de mensajes de texto cortos. Pase la lista a una función llamada **show_messages()**, que imprime cada mensaje de texto.\n"
      ],
      "metadata": {
        "id": "AxoQ8UkPLzhr"
      }
    },
    {
      "cell_type": "code",
      "source": [
        "def show_messages(lista):\n",
        "  \"This function prints all elements in a previous define list!\"\n",
        "  for message in lista:\n",
        "    print(message)\n",
        "\n",
        "short_messages = ['hola', 'adios', 'nos vemos']\n",
        "show_messages(short_messages)"
      ],
      "metadata": {
        "id": "X4__A1niN1Rz",
        "outputId": "dd92dba7-a894-40a0-eeec-49eda51947c1",
        "colab": {
          "base_uri": "https://localhost:8080/"
        }
      },
      "execution_count": 26,
      "outputs": [
        {
          "output_type": "stream",
          "name": "stdout",
          "text": [
            "hola\n",
            "adios\n",
            "nos vemos\n"
          ]
        }
      ]
    },
    {
      "cell_type": "markdown",
      "source": [
        "---\n",
        "\n",
        "<b> Ejercicio 2</b>\n",
        "\n",
        "Comience con una copia de su programa del Ejercicio anterior. Escriba una función llamada **send_messages()** que imprima cada mensaje de texto y mueva cada mensaje a una nueva lista llamada sent_messages a medida que se imprime. Después de llamar a la función, imprima ambas listas para asegurarse de que los mensajes se movieron correctamente."
      ],
      "metadata": {
        "id": "cr6vkbj-L_4Q"
      }
    },
    {
      "cell_type": "code",
      "source": [
        "show_messages = ['hola', 'adios', 'nos vemos']\n",
        "\n",
        "def send_messages(show_messages, sent_messages):\n",
        "    \"\"\"\n",
        "    Simula la impresión de cada diseño, hasta que no quede ninguno.\n",
        "    Mueva cada diseño a complete_models después de la impresión.\n",
        "    \"\"\"\n",
        "    while show_messages:\n",
        "        current_messages = show_messages.pop()\n",
        "        print(f\"Modelo de impresión: {current_messages}\")\n",
        "        sent_messages.append(current_messages)\n",
        "\n",
        "def show_sent_messages(sent_messages):\n",
        "    \"\"\"Mostrar todos los modelos que se imprimieron.\"\"\"\n",
        "    print(\"\\nLos siguientes modelos han sido impresos:\")\n",
        "    for sent_message in sent_messages:\n",
        "        print(sent_message)\n",
        "\n"
      ],
      "metadata": {
        "id": "H8UI6pbZTH9s"
      },
      "execution_count": 25,
      "outputs": []
    },
    {
      "cell_type": "markdown",
      "source": [
        "---\n",
        "\n",
        "<b> Ejercicio 3</b>\n",
        "\n",
        "Comience con su trabajo del Ejercicio anterior. Llame a la función **send_messages()** con una copia de la lista de mensajes. Después de llamar a la función, imprima ambas listas para mostrar que la lista original ha conservado sus mensajes.\n",
        "\n",
        "---"
      ],
      "metadata": {
        "id": "DeKTopX9McDP"
      }
    },
    {
      "cell_type": "markdown",
      "source": [
        "# 6. Pasar un número arbitrario de argumentos"
      ],
      "metadata": {
        "id": "Wnme938ANSqz"
      }
    },
    {
      "cell_type": "code",
      "source": [
        "def make_pizza(*toppings):\n",
        "    \"\"\"Print the list of toppings that have been requested.\"\"\"\n",
        "    print(toppings)\n"
      ],
      "metadata": {
        "id": "GqEL53UHDxWl"
      },
      "execution_count": null,
      "outputs": []
    },
    {
      "cell_type": "code",
      "source": [
        "make_pizza('pepperoni')"
      ],
      "metadata": {
        "id": "6QleoN8X63w-",
        "outputId": "4c206f44-458d-451f-b15b-15806210b727",
        "colab": {
          "base_uri": "https://localhost:8080/"
        }
      },
      "execution_count": null,
      "outputs": [
        {
          "output_type": "stream",
          "name": "stdout",
          "text": [
            "('pepperoni',)\n"
          ]
        }
      ]
    },
    {
      "cell_type": "code",
      "source": [
        "\n",
        "make_pizza('mushrooms', 'green peppers', 'extra cheese')"
      ],
      "metadata": {
        "colab": {
          "base_uri": "https://localhost:8080/"
        },
        "id": "SQgZl_dgDwue",
        "outputId": "e9b51113-f982-41a9-ab7f-4d8da3ca1e09"
      },
      "execution_count": null,
      "outputs": [
        {
          "output_type": "stream",
          "name": "stdout",
          "text": [
            "('mushrooms', 'green peppers', 'extra cheese')\n"
          ]
        }
      ]
    },
    {
      "cell_type": "code",
      "source": [
        "def make_pizza(*toppings):\n",
        "    \"\"\"Summarize the pizza we are about to make.\"\"\"\n",
        "    print(\"\\nMaking a pizza with the following toppings:\")\n",
        "    for topping in toppings:\n",
        "        print(f\"- {topping}\")\n"
      ],
      "metadata": {
        "id": "_fejq6AGN0Uf"
      },
      "execution_count": null,
      "outputs": []
    },
    {
      "cell_type": "code",
      "source": [
        "make_pizza('pepperoni')\n",
        "make_pizza('mushrooms', 'green peppers', 'extra cheese')"
      ],
      "metadata": {
        "id": "-9hL5oSIN07z",
        "outputId": "0b7266d3-50bc-480f-c906-5bf8967d2ba5",
        "colab": {
          "base_uri": "https://localhost:8080/"
        }
      },
      "execution_count": null,
      "outputs": [
        {
          "output_type": "stream",
          "name": "stdout",
          "text": [
            "\n",
            "Making a pizza with the following toppings:\n",
            "- pepperoni\n",
            "\n",
            "Making a pizza with the following toppings:\n",
            "- mushrooms\n",
            "- green peppers\n",
            "- extra cheese\n"
          ]
        }
      ]
    },
    {
      "cell_type": "markdown",
      "source": [
        "### Mezclar argumentos posicionales y arbitrarios"
      ],
      "metadata": {
        "id": "8NrI0kgCOLN2"
      }
    },
    {
      "cell_type": "code",
      "source": [
        "def make_pizza(size, *toppings):\n",
        "    \"\"\"Summarize the pizza we are about to make.\"\"\"\n",
        "    print(f\"\\nMaking a {size}-inch pizza with the following toppings:\")\n",
        "    for topping in toppings:\n",
        "        print(f\"- {topping}\")\n"
      ],
      "metadata": {
        "id": "LItqvKT2OMdS"
      },
      "execution_count": 75,
      "outputs": []
    },
    {
      "cell_type": "code",
      "source": [
        "make_pizza(16, 'pepperoni')\n",
        "make_pizza(12, 'mushrooms', 'green peppers', 'extra cheese')"
      ],
      "metadata": {
        "id": "9OJO5HC0OTEP",
        "outputId": "50cf2481-bdd4-4a2e-9d15-6f17cbaa12fc",
        "colab": {
          "base_uri": "https://localhost:8080/"
        }
      },
      "execution_count": 76,
      "outputs": [
        {
          "output_type": "stream",
          "name": "stdout",
          "text": [
            "\n",
            "Making a 16-inch pizza with the following toppings:\n",
            "- pepperoni\n",
            "\n",
            "Making a 12-inch pizza with the following toppings:\n",
            "- mushrooms\n",
            "- green peppers\n",
            "- extra cheese\n"
          ]
        }
      ]
    },
    {
      "cell_type": "markdown",
      "source": [
        "### Uso de argumentos de palabras clave arbitrarias"
      ],
      "metadata": {
        "id": "N6DxNYhpO_PL"
      }
    },
    {
      "cell_type": "code",
      "source": [
        "{'a':'a1',\n",
        " }"
      ],
      "metadata": {
        "id": "N7rGzzAi72fD"
      },
      "execution_count": null,
      "outputs": []
    },
    {
      "cell_type": "code",
      "source": [
        "my_dict['a'] = 'a1' "
      ],
      "metadata": {
        "id": "xBUVzZSU756z"
      },
      "execution_count": null,
      "outputs": []
    },
    {
      "cell_type": "code",
      "source": [
        "def build_profile(first, last, **user_info):\n",
        "    \"\"\"Build a dictionary containing everything we know about a user.\"\"\"\n",
        "    user_info['first_name'] = first\n",
        "    user_info['last_name'] = last\n",
        "    return user_info\n"
      ],
      "metadata": {
        "id": "tXBMgW8JPAyn"
      },
      "execution_count": 77,
      "outputs": []
    },
    {
      "cell_type": "code",
      "source": [
        "build_profile('John', 'Caballero')"
      ],
      "metadata": {
        "id": "9p2R7tNmOwLE",
        "outputId": "c50e301b-278d-42c8-bf40-102227660962",
        "colab": {
          "base_uri": "https://localhost:8080/"
        }
      },
      "execution_count": 78,
      "outputs": [
        {
          "output_type": "execute_result",
          "data": {
            "text/plain": [
              "{'first_name': 'John', 'last_name': 'Caballero'}"
            ]
          },
          "metadata": {},
          "execution_count": 78
        }
      ]
    },
    {
      "cell_type": "code",
      "source": [
        "user_profile = build_profile('albert', 'einstein')\n",
        "print(user_profile)"
      ],
      "metadata": {
        "id": "5Vgv0LQU8G_q",
        "outputId": "4db070a0-632f-4376-8738-a54a92c09ab5",
        "colab": {
          "base_uri": "https://localhost:8080/"
        }
      },
      "execution_count": null,
      "outputs": [
        {
          "output_type": "stream",
          "name": "stdout",
          "text": [
            "{'first_name': 'albert', 'last_name': 'einstein'}\n"
          ]
        }
      ]
    },
    {
      "cell_type": "code",
      "source": [
        "user_profile = build_profile('albert', 'einstein',\n",
        "                             location='princeton',\n",
        "                             field='physics')\n",
        "print(user_profile)"
      ],
      "metadata": {
        "id": "uW5z9dNTPKyu",
        "outputId": "f1979794-32e9-4df3-c83b-ebb338720c59",
        "colab": {
          "base_uri": "https://localhost:8080/"
        }
      },
      "execution_count": null,
      "outputs": [
        {
          "output_type": "stream",
          "name": "stdout",
          "text": [
            "{'location': 'princeton', 'field': 'physics', 'first_name': 'albert', 'last_name': 'einstein'}\n"
          ]
        }
      ]
    },
    {
      "cell_type": "code",
      "source": [
        "user_profile = build_profile('John', 'Caballero',\n",
        "                             location='Peru',\n",
        "                             field='estadística',\n",
        "                             age=30,\n",
        "                             colour='azul')\n",
        "print(user_profile)"
      ],
      "metadata": {
        "id": "NgTwtf_H8YKu",
        "outputId": "57a69b5a-d7de-4ee6-9f49-2dabf7476a02",
        "colab": {
          "base_uri": "https://localhost:8080/"
        }
      },
      "execution_count": null,
      "outputs": [
        {
          "output_type": "stream",
          "name": "stdout",
          "text": [
            "{'location': 'Peru', 'field': 'estadística', 'age': 30, 'colour': 'azul', 'first_name': 'John', 'last_name': 'Caballero'}\n"
          ]
        }
      ]
    },
    {
      "cell_type": "markdown",
      "source": [
        "---\n",
        "\n",
        "<b> Ejercicio 1</b>\n",
        "\n",
        "Escribe una función que acepte una lista de artículos que una persona quiere en un sándwich. La función debe tener un parámetro que recopile tantos elementos como proporcione la llamada a la función, y debe imprimir un resumen del sándwich que se está ordenando. Llame a la función tres veces, usando un número diferente de argumentos cada vez."
      ],
      "metadata": {
        "id": "0kYhXVPvQSh_"
      }
    },
    {
      "cell_type": "code",
      "source": [
        "def make_sandwich(*ingredientes):\n",
        "  \"\"\"Esta función lee ingredientes para un sandwich\"\"\"\n",
        "  print('\\nSe preparará un sandwich con los siguientes ingredientes:')\n",
        "  for ingrediente in ingredientes:\n",
        "    print(f'- {ingrediente}')  \n",
        "\n",
        "make_sandwich('Queso', 'Tomate', 'Papas')\n",
        "make_sandwich('Queso', 'Tomate', 'Papas', 'Huevo', 'Mayonesa')\n"
      ],
      "metadata": {
        "id": "rDcNXtPv8we_",
        "outputId": "896d8348-e47d-492c-e391-353f67a2e077",
        "colab": {
          "base_uri": "https://localhost:8080/"
        }
      },
      "execution_count": 79,
      "outputs": [
        {
          "output_type": "stream",
          "name": "stdout",
          "text": [
            "\n",
            "Se preparará un sandwich con los siguientes ingredientes:\n",
            "- Queso\n",
            "- Tomate\n",
            "- Papas\n",
            "\n",
            "Se preparará un sandwich con los siguientes ingredientes:\n",
            "- Queso\n",
            "- Tomate\n",
            "- Papas\n",
            "- Huevo\n",
            "- Mayonesa\n"
          ]
        }
      ]
    },
    {
      "cell_type": "markdown",
      "source": [
        "---\n",
        "\n",
        "<b> Ejercicio 2</b>\n",
        "\n",
        "Comience con una copia de **user_profile** de ***Uso de argumentos de palabras clave arbitrarias***. Cree un perfil de usted mismo llamando a **build_profile()**, usando su nombre y apellido y otros tres pares clave-valor que lo describan."
      ],
      "metadata": {
        "id": "NXvPqgVZQcx9"
      }
    },
    {
      "cell_type": "code",
      "source": [
        ""
      ],
      "metadata": {
        "id": "ze_RGHs6VZNs"
      },
      "execution_count": null,
      "outputs": []
    },
    {
      "cell_type": "code",
      "source": [
        "def build_profile(first, last, **user_info):\n",
        "    \"\"\"Build a dictionary containing everything we know about a user.\"\"\"\n",
        "    user_info['first_name'] = first\n",
        "    user_info['last_name'] = last\n",
        "    return user_info\n",
        "user_profile = build_profile(\"Ivan\",\"Ataucuri\",\n",
        "                            edad=28,\n",
        "                            ocupación=\"Administrador\",\n",
        "                            pasatiempo=\"Ir al cine\")\n",
        "print(user_profile)\n"
      ],
      "metadata": {
        "id": "a9Ph6DcEXkpr"
      },
      "execution_count": null,
      "outputs": []
    },
    {
      "cell_type": "markdown",
      "source": [
        "---\n",
        "\n",
        "<b> Ejercicio 3</b>\n",
        "\n",
        "Escribe una función que almacene información sobre un automóvil en un diccionario. La función siempre debe recibir un fabricante y un nombre de modelo. Entonces debería aceptar un número arbitrario de argumentos de palabras clave. Llame a la función con la información requerida y otros dos pares de nombre y valor, como un color o una función opcional. Su función debería funcionar para una llamada como esta:\n",
        "\n",
        "coche = **make_car**('subaru', 'outback', color='blue', tow_package=True)\n",
        "\n",
        "Imprima el diccionario que se devuelve para asegurarse de que toda la información se almacenó correctamente.\n",
        "\n",
        "---"
      ],
      "metadata": {
        "id": "gpj7y6NYQjLq"
      }
    },
    {
      "cell_type": "markdown",
      "source": [
        "# 7. Almacenamiento de funciones en módulos"
      ],
      "metadata": {
        "id": "Ut0OnphvWeOw"
      }
    },
    {
      "cell_type": "markdown",
      "source": [
        "### Importar funciones específicas"
      ],
      "metadata": {
        "id": "qML64F41WRTX"
      }
    },
    {
      "cell_type": "code",
      "source": [
        "from sandwich import make_sandwich"
      ],
      "metadata": {
        "id": "oLt942aV-KiI"
      },
      "execution_count": null,
      "outputs": []
    },
    {
      "cell_type": "code",
      "source": [
        "make_sandwich('Queso', 'Doble jamón', 'papas')"
      ],
      "metadata": {
        "id": "C5oRUNh6-UUA",
        "outputId": "38610cfd-024f-49af-a988-1c724eafcc3b",
        "colab": {
          "base_uri": "https://localhost:8080/"
        }
      },
      "execution_count": null,
      "outputs": [
        {
          "output_type": "stream",
          "name": "stdout",
          "text": [
            "\n",
            "La pizza contiene los siguientes toppings:\n",
            "- Queso\n",
            "- Doble jamón\n",
            "- papas\n"
          ]
        }
      ]
    },
    {
      "cell_type": "code",
      "source": [
        "from pizza import make_pizza"
      ],
      "metadata": {
        "id": "cA4XkhylQYhn"
      },
      "execution_count": null,
      "outputs": []
    },
    {
      "cell_type": "code",
      "source": [
        "make_pizza(16, 'pepperoni')\n",
        "make_pizza(12, 'mushrooms', 'green peppers', 'extra cheese')"
      ],
      "metadata": {
        "id": "eesDvKLZVehZ",
        "outputId": "06d86cee-817a-4f48-b4d0-a552e7cddb6a",
        "colab": {
          "base_uri": "https://localhost:8080/"
        }
      },
      "execution_count": null,
      "outputs": [
        {
          "output_type": "stream",
          "name": "stdout",
          "text": [
            "\n",
            "Making a 16-inch pizza with the following toppings:\n",
            "- pepperoni\n",
            "\n",
            "Making a 12-inch pizza with the following toppings:\n",
            "- mushrooms\n",
            "- green peppers\n",
            "- extra cheese\n"
          ]
        }
      ]
    },
    {
      "cell_type": "markdown",
      "source": [
        "### Uso de as para dar un alias a una función"
      ],
      "metadata": {
        "id": "c4ojH2gyWAYW"
      }
    },
    {
      "cell_type": "code",
      "source": [
        "from pizza import make_pizza as mp\n",
        "\n",
        "mp(16, 'pepperoni')\n",
        "mp(12, 'mushrooms', 'green peppers', 'extra cheese')"
      ],
      "metadata": {
        "id": "h6WyN6L9VliG",
        "outputId": "99dc3380-3b31-44ef-cf07-c585d84234d8",
        "colab": {
          "base_uri": "https://localhost:8080/"
        }
      },
      "execution_count": null,
      "outputs": [
        {
          "output_type": "stream",
          "name": "stdout",
          "text": [
            "\n",
            "Making a 16-inch pizza with the following toppings:\n",
            "- pepperoni\n",
            "\n",
            "Making a 12-inch pizza with the following toppings:\n",
            "- mushrooms\n",
            "- green peppers\n",
            "- extra cheese\n"
          ]
        }
      ]
    },
    {
      "cell_type": "markdown",
      "source": [
        "### Uso de as para dar un alias a un módulo"
      ],
      "metadata": {
        "id": "vYeRmZSCVxE8"
      }
    },
    {
      "cell_type": "code",
      "source": [
        "import pizza as p\n",
        "\n",
        "p.make_pizza(16, 'pepperoni')\n",
        "p.make_pizza(12, 'mushrooms', 'green peppers', 'extra cheese')"
      ],
      "metadata": {
        "id": "ErMJcae6VrqE",
        "outputId": "33d8247f-ec82-4e1b-b7bf-cef3fdcc3837",
        "colab": {
          "base_uri": "https://localhost:8080/"
        }
      },
      "execution_count": null,
      "outputs": [
        {
          "output_type": "stream",
          "name": "stdout",
          "text": [
            "\n",
            "Making a 16-inch pizza with the following toppings:\n",
            "- pepperoni\n",
            "\n",
            "Making a 12-inch pizza with the following toppings:\n",
            "- mushrooms\n",
            "- green peppers\n",
            "- extra cheese\n"
          ]
        }
      ]
    },
    {
      "cell_type": "markdown",
      "source": [
        "# 8. Introducción a Clases"
      ],
      "metadata": {
        "id": "zl5-pV1XfXi1"
      }
    },
    {
      "cell_type": "markdown",
      "source": [
        "Una función que es parte de una clase es un método. Todo lo que aprendió sobre las funciones también se aplica a los métodos; la única diferencia práctica por ahora es la forma en que llamaremos a los métodos."
      ],
      "metadata": {
        "id": "Zm1Zg6mGd-GW"
      }
    },
    {
      "cell_type": "markdown",
      "source": [
        "**El método Init**\n",
        "\n",
        "El método __init__() es un método especial que Python ejecuta automáticamente cada vez que creamos una nueva instancia basada en la clase Dog. Este método tiene dos guiones bajos iniciales y dos guiones bajos finales, una convención que ayuda a evitar que los nombres de métodos predeterminados de Python entren en conflicto con los nombres de sus métodos. Asegúrese de usar dos guiones bajos a cada lado de __init__(). Si usa solo uno en cada lado, el método no se llamará automáticamente cuando use su clase, lo que puede generar errores que son difíciles de identificar."
      ],
      "metadata": {
        "id": "7N1Jxb6ceSRx"
      }
    },
    {
      "cell_type": "code",
      "source": [
        "class Dog:\n",
        "    \"\"\"A simple attempt to model a dog.\"\"\"\n",
        "    def __init__(self, name, age):\n",
        "        \"\"\"Initialize name and age attributes.\"\"\"\n",
        "        self.name = name\n",
        "        self.age = age\n",
        "\n",
        "    def sit(self):\n",
        "        \"\"\"Simulate a dog sitting in response to a command.\"\"\"\n",
        "        print(f\"{self.name} esta sentado.\")\n",
        "\n",
        "    def roll_over(self):\n",
        "        \"\"\"Simulate rolling over in response to a command.\"\"\"\n",
        "        print(f\"{self.name} esta rodando!\")\n"
      ],
      "metadata": {
        "id": "flog3R7bdvZn"
      },
      "execution_count": null,
      "outputs": []
    },
    {
      "cell_type": "code",
      "source": [
        "my_dog = Dog('Willie', 6)"
      ],
      "metadata": {
        "id": "ekZkhZeud1HN"
      },
      "execution_count": null,
      "outputs": []
    },
    {
      "cell_type": "code",
      "source": [
        "print(f\"El nombre de mi perro es {my_dog.name}.\")"
      ],
      "metadata": {
        "id": "Vi5yplZPe61f",
        "outputId": "66208e36-7b06-41a8-c821-10f699e720b6",
        "colab": {
          "base_uri": "https://localhost:8080/"
        }
      },
      "execution_count": null,
      "outputs": [
        {
          "output_type": "stream",
          "name": "stdout",
          "text": [
            "El nombre de mi perro es Willie.\n"
          ]
        }
      ]
    },
    {
      "cell_type": "code",
      "source": [
        "print(f\"Mi perro tiene {my_dog.age} años.\")"
      ],
      "metadata": {
        "id": "Uaf2In0sfBfO",
        "outputId": "b84849dc-6287-4b84-ea0a-02fbb3fd2925",
        "colab": {
          "base_uri": "https://localhost:8080/"
        }
      },
      "execution_count": null,
      "outputs": [
        {
          "output_type": "stream",
          "name": "stdout",
          "text": [
            "Mi perro tiene 6 años.\n"
          ]
        }
      ]
    },
    {
      "cell_type": "markdown",
      "source": [
        "### Llamando métodos de la clase"
      ],
      "metadata": {
        "id": "EpkCSrR6fqEh"
      }
    },
    {
      "cell_type": "code",
      "source": [
        "my_dog.sit()"
      ],
      "metadata": {
        "id": "bcqIi7zPfmVh",
        "outputId": "94a931d9-ce93-4002-f526-69b325159c64",
        "colab": {
          "base_uri": "https://localhost:8080/"
        }
      },
      "execution_count": null,
      "outputs": [
        {
          "output_type": "stream",
          "name": "stdout",
          "text": [
            "Willie esta sentado.\n"
          ]
        }
      ]
    },
    {
      "cell_type": "code",
      "source": [
        "my_dog.roll_over()"
      ],
      "metadata": {
        "id": "RhFLCn3Eftjz",
        "outputId": "aa376d5a-88d8-4fbe-f35b-8c897ed96a45",
        "colab": {
          "base_uri": "https://localhost:8080/"
        }
      },
      "execution_count": null,
      "outputs": [
        {
          "output_type": "stream",
          "name": "stdout",
          "text": [
            "Willie esta rodando!\n"
          ]
        }
      ]
    },
    {
      "cell_type": "markdown",
      "source": [
        "### Creando múltiples instancias"
      ],
      "metadata": {
        "id": "yqpTqtBrf5pF"
      }
    },
    {
      "cell_type": "code",
      "source": [
        "my_dog = Dog('Willie', 6)\n",
        "your_dog = Dog('Lucy', 3)\n"
      ],
      "metadata": {
        "id": "MsHtLxOrf-nB"
      },
      "execution_count": null,
      "outputs": []
    },
    {
      "cell_type": "code",
      "source": [
        "print(f\"El nombre de mi perro es {my_dog.name}.\")\n",
        "print(f\"Mi perro tiene {my_dog.age} años.\")\n",
        "my_dog.sit()\n"
      ],
      "metadata": {
        "colab": {
          "base_uri": "https://localhost:8080/"
        },
        "id": "ia8YHqsWf_T0",
        "outputId": "9447b01a-dc96-4274-8258-290dc9800ab8"
      },
      "execution_count": null,
      "outputs": [
        {
          "output_type": "stream",
          "name": "stdout",
          "text": [
            "El nombre de mi perro es Willie.\n",
            "Mi perro tiene 6 años.\n",
            "Willie esta sentado.\n"
          ]
        }
      ]
    },
    {
      "cell_type": "code",
      "source": [
        "print(f\"\\nEl nombre de tu perro es {your_dog.name}.\")\n",
        "print(f\"Tu perro tiene {your_dog.age} años.\")\n",
        "your_dog.sit()"
      ],
      "metadata": {
        "id": "woRDon1-gBV0",
        "outputId": "aaffb299-ba2e-42c9-d2f0-648880ea560e",
        "colab": {
          "base_uri": "https://localhost:8080/"
        }
      },
      "execution_count": null,
      "outputs": [
        {
          "output_type": "stream",
          "name": "stdout",
          "text": [
            "\n",
            "El nombre de tu perro es Lucy.\n",
            "Tu perro tiene 3 años.\n",
            "Lucy esta sentado.\n"
          ]
        }
      ]
    },
    {
      "cell_type": "markdown",
      "source": [
        "---\n",
        "\n",
        "<b> Ejercicio 1</b>\n",
        "\n",
        "Haz una clase llamada Restaurante. El método __init__() para Restaurante debe almacenar dos atributos: un nombre_restaurante y un tipo_cocina. Cree un método llamado describe_restaurant() que imprima estos dos datos y un método llamado open_restaurant() que imprima un mensaje que indique que el restaurante está abierto.\n",
        "\n",
        "Cree una instancia llamada restaurante de su clase. Imprima los dos atributos individualmente y luego llame a ambos métodos."
      ],
      "metadata": {
        "id": "kp8q0QVDgqkZ"
      }
    },
    {
      "cell_type": "code",
      "source": [
        "class Restaurante:\n",
        "    \"\"\"A simple attempt to model a restaurante.\"\"\"\n",
        "    def __init__(self, nombre_restaurante, tipo_cocina):\n",
        "        \"\"\"Initialize name and age attributes.\"\"\"\n",
        "        self.nombre_restaurante = nombre_restaurante\n",
        "        self.tipo_cocina = tipo_cocina\n",
        "\n",
        "    def describe_restaurant(self):\n",
        "        \"\"\"\"\"\"\n",
        "        print(f'{self.nombre_restaurante}, {self.tipo_cocina}')\n",
        "\n",
        "    def open_restaurant(self):\n",
        "        \"\"\"\"\"\"\n",
        "        print('El restaurante esta abierto')\n",
        "\n",
        "        "
      ],
      "metadata": {
        "id": "g7gst4DZAlSO"
      },
      "execution_count": null,
      "outputs": []
    },
    {
      "cell_type": "code",
      "source": [
        "my_rest = Restaurante('Gaston Acurio', 'Criolla')"
      ],
      "metadata": {
        "id": "kkVZF-lTBS-S"
      },
      "execution_count": null,
      "outputs": []
    },
    {
      "cell_type": "code",
      "source": [
        "my_rest.nombre_restaurante"
      ],
      "metadata": {
        "id": "Nb2A0lTlBd8O",
        "outputId": "8328d88b-d034-49ed-8462-be3167d91a12",
        "colab": {
          "base_uri": "https://localhost:8080/",
          "height": 35
        }
      },
      "execution_count": null,
      "outputs": [
        {
          "output_type": "execute_result",
          "data": {
            "text/plain": [
              "'Gaston Acurio'"
            ],
            "application/vnd.google.colaboratory.intrinsic+json": {
              "type": "string"
            }
          },
          "metadata": {},
          "execution_count": 145
        }
      ]
    },
    {
      "cell_type": "code",
      "source": [
        "my_rest.describe_restaurant()"
      ],
      "metadata": {
        "id": "Xmx3--qlBhrG",
        "outputId": "0a1b79b6-4902-4203-b9e3-6a8bcd1cd562",
        "colab": {
          "base_uri": "https://localhost:8080/"
        }
      },
      "execution_count": null,
      "outputs": [
        {
          "output_type": "stream",
          "name": "stdout",
          "text": [
            "Gaston Acurio, Criolla\n"
          ]
        }
      ]
    },
    {
      "cell_type": "code",
      "source": [
        "my_rest.open_restaurant()"
      ],
      "metadata": {
        "id": "bpm8vBr2B5mT",
        "outputId": "ca2c28d9-556a-43f2-a021-5e0587632ae6",
        "colab": {
          "base_uri": "https://localhost:8080/"
        }
      },
      "execution_count": null,
      "outputs": [
        {
          "output_type": "stream",
          "name": "stdout",
          "text": [
            "El restaurante esta abierto\n"
          ]
        }
      ]
    },
    {
      "cell_type": "markdown",
      "source": [
        "---\n",
        "\n",
        "<b> Ejercicio 2</b>\n",
        "\n",
        "Comience con su clase del Ejercicio anterior. Cree tres instancias diferentes de la clase y llame a **describe_restaurant**() para cada instancia."
      ],
      "metadata": {
        "id": "uD1V4MnYgxO2"
      }
    },
    {
      "cell_type": "code",
      "source": [
        "my_rest1 = Restaurante('Gaston Acurio', 'Criolla')\n",
        "my_rest2 = Restaurante('Señor Limon', 'Marina')\n",
        "my_rest3 = Restaurante('Charrua', 'Carnes')"
      ],
      "metadata": {
        "id": "_OeMpa-OCCIm"
      },
      "execution_count": null,
      "outputs": []
    },
    {
      "cell_type": "code",
      "source": [
        "my_rest1.describe_restaurant() "
      ],
      "metadata": {
        "id": "cbxcp9m8CNNF",
        "outputId": "35a39fb3-f010-4592-c58c-1625f5dccc17",
        "colab": {
          "base_uri": "https://localhost:8080/"
        }
      },
      "execution_count": null,
      "outputs": [
        {
          "output_type": "stream",
          "name": "stdout",
          "text": [
            "Gaston Acurio, Criolla\n"
          ]
        }
      ]
    },
    {
      "cell_type": "code",
      "source": [
        "my_rest2.describe_restaurant() "
      ],
      "metadata": {
        "id": "qiLUedoKCRGo",
        "outputId": "0d4591bf-3daf-448c-a1e8-503ed6538f1c",
        "colab": {
          "base_uri": "https://localhost:8080/"
        }
      },
      "execution_count": null,
      "outputs": [
        {
          "output_type": "stream",
          "name": "stdout",
          "text": [
            "Señor Limon, Marina\n"
          ]
        }
      ]
    },
    {
      "cell_type": "markdown",
      "source": [
        "---\n",
        "\n",
        "<b> Ejercicio 3</b>\n",
        "\n",
        "Haz una clase llamada Usuario. Cree dos atributos llamados **first_name** y **last_name**, y luego cree varios otros atributos que normalmente se almacenan en un perfil de usuario. Cree un método llamado **describe_user**() que imprima un resumen de la información del usuario. Cree otro método llamado **greeting_user**() que imprima un saludo personalizado para el usuario.\n",
        "\n",
        "Cree varias instancias que representen a diferentes usuarios y llame a ambos métodos para cada usuario.\n",
        "\n",
        "---"
      ],
      "metadata": {
        "id": "PlqVFUueg2QI"
      }
    },
    {
      "cell_type": "markdown",
      "source": [
        "---\n",
        "\n",
        "# Gracias por completar este laboratorio!\n",
        "\n",
        "---\n"
      ],
      "metadata": {
        "id": "MXXM4w69aIll"
      }
    }
  ]
}